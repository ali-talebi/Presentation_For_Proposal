{
  "nbformat": 4,
  "nbformat_minor": 0,
  "metadata": {
    "colab": {
      "provenance": [],
      "gpuType": "T4",
      "authorship_tag": "ABX9TyPMBc7KEwaQe5p7MRwYI05b",
      "include_colab_link": true
    },
    "kernelspec": {
      "name": "python3",
      "display_name": "Python 3"
    },
    "language_info": {
      "name": "python"
    },
    "accelerator": "GPU"
  },
  "cells": [
    {
      "cell_type": "markdown",
      "metadata": {
        "id": "view-in-github",
        "colab_type": "text"
      },
      "source": [
        "<a href=\"https://colab.research.google.com/github/ali-talebi/Presentation_For_Proposal/blob/main/Ali_Talebi_Presentation.ipynb\" target=\"_parent\"><img src=\"https://colab.research.google.com/assets/colab-badge.svg\" alt=\"Open In Colab\"/></a>"
      ]
    },
    {
      "cell_type": "code",
      "execution_count": null,
      "metadata": {
        "id": "tq04PpnIO6PJ"
      },
      "outputs": [],
      "source": [
        "import tensorflow as td\n",
        "from tensorflow import keras\n",
        "from keras.models import Sequential , Model\n",
        "from keras.layers import  Dense\n",
        "from keras.datasets import mnist\n",
        "from tensorflow.keras.utils import to_categorical\n",
        "import matplotlib.pyplot as plt\n",
        "import numpy as np\n",
        "from keras.layers import Conv2D , Dense , Dropout , BatchNormalization  , MaxPooling2D , Flatten , Input\n"
      ]
    },
    {
      "cell_type": "code",
      "source": [],
      "metadata": {
        "id": "Cvw8KZO5Lqun"
      },
      "execution_count": null,
      "outputs": []
    },
    {
      "cell_type": "code",
      "source": [
        "data  = mnist\n",
        "(x_train , y_train ) , (x_test , y_test ) = data.load_data()"
      ],
      "metadata": {
        "colab": {
          "base_uri": "https://localhost:8080/"
        },
        "id": "5QtgVUmAPGKr",
        "outputId": "5f631362-f2a5-4b4a-8d97-78420624c7af"
      },
      "execution_count": null,
      "outputs": [
        {
          "output_type": "stream",
          "name": "stdout",
          "text": [
            "Downloading data from https://storage.googleapis.com/tensorflow/tf-keras-datasets/mnist.npz\n",
            "11490434/11490434 [==============================] - 2s 0us/step\n"
          ]
        }
      ]
    },
    {
      "cell_type": "code",
      "source": [
        "x_train = x_train.astype(\"float\" ) / 255.0\n",
        "x_test  = x_test.astype(\"float\") / 255.0"
      ],
      "metadata": {
        "id": "wbL6XeMYP1Vc"
      },
      "execution_count": null,
      "outputs": []
    },
    {
      "cell_type": "code",
      "source": [
        "y_train"
      ],
      "metadata": {
        "colab": {
          "base_uri": "https://localhost:8080/"
        },
        "id": "ErIajBBBP3GA",
        "outputId": "744760bc-630b-498f-8d00-e349dd6018cc"
      },
      "execution_count": null,
      "outputs": [
        {
          "output_type": "execute_result",
          "data": {
            "text/plain": [
              "array([5, 0, 4, ..., 5, 6, 8], dtype=uint8)"
            ]
          },
          "metadata": {},
          "execution_count": 5
        }
      ]
    },
    {
      "cell_type": "code",
      "source": [
        "plt.imshow(x_train[1532] , cmap=\"gray\")\n",
        "print(y_train[1532])\n",
        "plt.show()"
      ],
      "metadata": {
        "colab": {
          "base_uri": "https://localhost:8080/",
          "height": 448
        },
        "id": "l9eX-ezrQAaI",
        "outputId": "c569cb4a-b58d-42b9-8642-aa1182c96d53"
      },
      "execution_count": null,
      "outputs": [
        {
          "output_type": "stream",
          "name": "stdout",
          "text": [
            "0\n"
          ]
        },
        {
          "output_type": "display_data",
          "data": {
            "text/plain": [
              "<Figure size 640x480 with 1 Axes>"
            ],
            "image/png": "[encoded data removed]"
          },
          "metadata": {}
        }
      ]
    },
    {
      "cell_type": "code",
      "source": [
        "new_y_train = to_categorical(y_train , 10 )\n",
        "new_y_test  = to_categorical(y_test , 10  )"
      ],
      "metadata": {
        "id": "W1UWTgbdQFtI"
      },
      "execution_count": null,
      "outputs": []
    },
    {
      "cell_type": "code",
      "source": [
        "y_train"
      ],
      "metadata": {
        "colab": {
          "base_uri": "https://localhost:8080/"
        },
        "id": "Pi-Dh4neQXLo",
        "outputId": "0de07626-3d7d-4e4c-b247-97faad7162a5"
      },
      "execution_count": null,
      "outputs": [
        {
          "output_type": "execute_result",
          "data": {
            "text/plain": [
              "array([5, 0, 4, ..., 5, 6, 8], dtype=uint8)"
            ]
          },
          "metadata": {},
          "execution_count": 8
        }
      ]
    },
    {
      "cell_type": "code",
      "source": [
        "y_test"
      ],
      "metadata": {
        "colab": {
          "base_uri": "https://localhost:8080/"
        },
        "id": "lbfzTGJLQYTX",
        "outputId": "9078949e-c488-4a19-c60a-24751f4d8b1d"
      },
      "execution_count": null,
      "outputs": [
        {
          "output_type": "execute_result",
          "data": {
            "text/plain": [
              "array([7, 2, 1, ..., 4, 5, 6], dtype=uint8)"
            ]
          },
          "metadata": {},
          "execution_count": 9
        }
      ]
    },
    {
      "cell_type": "code",
      "source": [
        "new_y_train"
      ],
      "metadata": {
        "colab": {
          "base_uri": "https://localhost:8080/"
        },
        "id": "WqGDgrELQiZ9",
        "outputId": "e325eceb-2456-4469-e1f4-1f0e5167ef87"
      },
      "execution_count": null,
      "outputs": [
        {
          "output_type": "execute_result",
          "data": {
            "text/plain": [
              "array([[0., 0., 0., ..., 0., 0., 0.],\n",
              "       [1., 0., 0., ..., 0., 0., 0.],\n",
              "       [0., 0., 0., ..., 0., 0., 0.],\n",
              "       ...,\n",
              "       [0., 0., 0., ..., 0., 0., 0.],\n",
              "       [0., 0., 0., ..., 0., 0., 0.],\n",
              "       [0., 0., 0., ..., 0., 1., 0.]], dtype=float32)"
            ]
          },
          "metadata": {},
          "execution_count": 10
        }
      ]
    },
    {
      "cell_type": "code",
      "source": [
        "x_train.shape"
      ],
      "metadata": {
        "colab": {
          "base_uri": "https://localhost:8080/"
        },
        "id": "w9RcqY8WSBl2",
        "outputId": "852958d8-9ade-48d5-c89b-1967aecaf734"
      },
      "execution_count": null,
      "outputs": [
        {
          "output_type": "execute_result",
          "data": {
            "text/plain": [
              "(60000, 28, 28)"
            ]
          },
          "metadata": {},
          "execution_count": 11
        }
      ]
    },
    {
      "cell_type": "code",
      "source": [
        "x_train = x_train.reshape(-1 , 28 , 28 , 1 )\n",
        "x_test  = x_test.reshape(-1 , 28 , 28 , 1 )"
      ],
      "metadata": {
        "id": "cUPWzcSLR90c"
      },
      "execution_count": null,
      "outputs": []
    },
    {
      "cell_type": "code",
      "source": [
        "models = Sequential([\n",
        "    Conv2D(128 , (3) , activation='relu' , input_shape = x_train.shape[1:])  ,\n",
        "    BatchNormalization() ,\n",
        "    Conv2D(64 , (3) , activation='relu' ) ,\n",
        "    MaxPooling2D() ,\n",
        "    Conv2D(32 , (3) , activation = 'relu') ,\n",
        "    BatchNormalization() ,\n",
        "\n",
        "    Flatten() ,\n",
        "    Dense(128 , activation = \"relu\" )  ,\n",
        "    Dropout(0.2) ,\n",
        "    Dense(32 , activation=\"relu\" ) ,\n",
        "    Dropout(0.2) ,\n",
        "    Dense(10 , activation='softmax' )\n",
        "\n",
        "])"
      ],
      "metadata": {
        "id": "xG9TzLQ2QkGl"
      },
      "execution_count": null,
      "outputs": []
    },
    {
      "cell_type": "code",
      "source": [
        "models.compile('adam' , loss = ['categorical_crossentropy'] , metrics=['acc'])"
      ],
      "metadata": {
        "id": "Eyio1IGqRx08"
      },
      "execution_count": null,
      "outputs": []
    },
    {
      "cell_type": "code",
      "source": [
        "x_train.shape"
      ],
      "metadata": {
        "colab": {
          "base_uri": "https://localhost:8080/"
        },
        "id": "sgCpUzQkSpLx",
        "outputId": "7bd45ce4-b106-4a6d-8393-e278b2c4e4f7"
      },
      "execution_count": null,
      "outputs": [
        {
          "output_type": "execute_result",
          "data": {
            "text/plain": [
              "(60000, 28, 28, 1)"
            ]
          },
          "metadata": {},
          "execution_count": 15
        }
      ]
    },
    {
      "cell_type": "code",
      "source": [
        "y_train.shape"
      ],
      "metadata": {
        "colab": {
          "base_uri": "https://localhost:8080/"
        },
        "id": "__qfTwhOSrGk",
        "outputId": "18a3d984-eda1-4ef0-b4b0-20166f44aa44"
      },
      "execution_count": null,
      "outputs": [
        {
          "output_type": "execute_result",
          "data": {
            "text/plain": [
              "(60000,)"
            ]
          },
          "metadata": {},
          "execution_count": 16
        }
      ]
    },
    {
      "cell_type": "code",
      "source": [
        "ali = models.fit(x_train , new_y_train , epochs=10 , batch_size=200 , validation_split=0.2  )"
      ],
      "metadata": {
        "colab": {
          "base_uri": "https://localhost:8080/"
        },
        "id": "DrXxrsCtSYKN",
        "outputId": "478c70e9-ad34-4001-b87b-2cd222742e97"
      },
      "execution_count": null,
      "outputs": [
        {
          "output_type": "stream",
          "name": "stdout",
          "text": [
            "Epoch 1/10\n",
            "240/240 [==============================] - 13s 25ms/step - loss: 0.2533 - acc: 0.9232 - val_loss: 3.7134 - val_acc: 0.1825\n",
            "Epoch 2/10\n",
            "240/240 [==============================] - 5s 22ms/step - loss: 0.0790 - acc: 0.9789 - val_loss: 0.3213 - val_acc: 0.9042\n",
            "Epoch 3/10\n",
            "240/240 [==============================] - 6s 23ms/step - loss: 0.0583 - acc: 0.9842 - val_loss: 0.0555 - val_acc: 0.9839\n",
            "Epoch 4/10\n",
            "240/240 [==============================] - 6s 23ms/step - loss: 0.0429 - acc: 0.9881 - val_loss: 0.0504 - val_acc: 0.9869\n",
            "Epoch 5/10\n",
            "240/240 [==============================] - 6s 24ms/step - loss: 0.0332 - acc: 0.9901 - val_loss: 0.0531 - val_acc: 0.9858\n",
            "Epoch 6/10\n",
            "240/240 [==============================] - 6s 24ms/step - loss: 0.0274 - acc: 0.9917 - val_loss: 0.0476 - val_acc: 0.9892\n",
            "Epoch 7/10\n",
            "240/240 [==============================] - 6s 24ms/step - loss: 0.0218 - acc: 0.9937 - val_loss: 0.0433 - val_acc: 0.9906\n",
            "Epoch 8/10\n",
            "240/240 [==============================] - 5s 23ms/step - loss: 0.0225 - acc: 0.9933 - val_loss: 0.0477 - val_acc: 0.9884\n",
            "Epoch 9/10\n",
            "240/240 [==============================] - 6s 23ms/step - loss: 0.0181 - acc: 0.9946 - val_loss: 0.0417 - val_acc: 0.9918\n",
            "Epoch 10/10\n",
            "240/240 [==============================] - 6s 24ms/step - loss: 0.0164 - acc: 0.9950 - val_loss: 0.0454 - val_acc: 0.9901\n"
          ]
        }
      ]
    },
    {
      "cell_type": "code",
      "source": [
        "plt.plot(range(10) , ali.history['acc'] , label = \"acc\"  )\n",
        "plt.plot(range(10) , ali.history['val_acc'] , label = \"val_acc\"  )\n",
        "plt.title(\"learning rate and accuracy and val_acuracy \")\n",
        "plt.legend()\n",
        "plt.grid()\n",
        "plt.show()"
      ],
      "metadata": {
        "colab": {
          "base_uri": "https://localhost:8080/",
          "height": 452
        },
        "id": "iVdpaQP8Smt3",
        "outputId": "c9393e98-d88f-4219-ac1f-bc5167535106"
      },
      "execution_count": null,
      "outputs": [
        {
          "output_type": "display_data",
          "data": {
            "text/plain": [
              "<Figure size 640x480 with 1 Axes>"
            ],
            "image/png": "[encoded data removed]"
          },
          "metadata": {}
        }
      ]
    },
    {
      "cell_type": "code",
      "source": [
        "plt.plot(range(10) , ali.history['loss'] , label = \"loss\"  )\n",
        "plt.plot(range(10) , ali.history['val_loss'] , label = \"val_loss\"  )\n",
        "plt.title(\"learning rate and loss and val_loss \")\n",
        "plt.legend()\n",
        "plt.grid()\n",
        "plt.show()"
      ],
      "metadata": {
        "colab": {
          "base_uri": "https://localhost:8080/",
          "height": 452
        },
        "id": "OWq0Tno2T0x0",
        "outputId": "00f2f214-8edd-4912-86b3-be0e49cfcd0f"
      },
      "execution_count": null,
      "outputs": [
        {
          "output_type": "display_data",
          "data": {
            "text/plain": [
              "<Figure size 640x480 with 1 Axes>"
            ],
            "image/png": "[encoded data removed]"
          },
          "metadata": {}
        }
      ]
    },
    {
      "cell_type": "code",
      "source": [
        "models.evaluate(x_test , new_y_test )"
      ],
      "metadata": {
        "colab": {
          "base_uri": "https://localhost:8080/"
        },
        "id": "wvacuCQbT8OT",
        "outputId": "f74df94c-528a-404c-bd9b-0dd648ba9446"
      },
      "execution_count": null,
      "outputs": [
        {
          "output_type": "stream",
          "name": "stdout",
          "text": [
            "313/313 [==============================] - 2s 4ms/step - loss: 0.0437 - acc: 0.9900\n"
          ]
        },
        {
          "output_type": "execute_result",
          "data": {
            "text/plain": [
              "[0.04372869431972504, 0.9900000095367432]"
            ]
          },
          "metadata": {},
          "execution_count": 20
        }
      ]
    },
    {
      "cell_type": "code",
      "source": [
        "models.input"
      ],
      "metadata": {
        "colab": {
          "base_uri": "https://localhost:8080/"
        },
        "id": "a8SmaDDNUBt8",
        "outputId": "f9577b24-c36a-46d7-c804-bb9b4d675e03"
      },
      "execution_count": null,
      "outputs": [
        {
          "output_type": "execute_result",
          "data": {
            "text/plain": [
              "<KerasTensor: shape=(None, 28, 28, 1) dtype=float32 (created by layer 'conv2d_input')>"
            ]
          },
          "metadata": {},
          "execution_count": 21
        }
      ]
    },
    {
      "cell_type": "code",
      "source": [
        "t = []\n",
        "t.append(x_train[36251])\n",
        "t = np.array(t)\n",
        "t.shape"
      ],
      "metadata": {
        "colab": {
          "base_uri": "https://localhost:8080/"
        },
        "id": "OnUM2h3_UKED",
        "outputId": "04ef57c0-8488-4444-dcfc-80de56057a26"
      },
      "execution_count": null,
      "outputs": [
        {
          "output_type": "execute_result",
          "data": {
            "text/plain": [
              "(1, 28, 28, 1)"
            ]
          },
          "metadata": {},
          "execution_count": 22
        }
      ]
    },
    {
      "cell_type": "code",
      "source": [
        "result = models.predict(t)"
      ],
      "metadata": {
        "colab": {
          "base_uri": "https://localhost:8080/"
        },
        "id": "GoW10c0vUTSD",
        "outputId": "ed99da05-49fa-4866-ce3c-e4f399fab1c4"
      },
      "execution_count": null,
      "outputs": [
        {
          "output_type": "stream",
          "name": "stdout",
          "text": [
            "1/1 [==============================] - 0s 280ms/step\n"
          ]
        }
      ]
    },
    {
      "cell_type": "code",
      "source": [
        "result = np.argmax(result)"
      ],
      "metadata": {
        "id": "63iliD9RUhGj"
      },
      "execution_count": null,
      "outputs": []
    },
    {
      "cell_type": "code",
      "source": [
        "result"
      ],
      "metadata": {
        "colab": {
          "base_uri": "https://localhost:8080/"
        },
        "id": "c17rL2HzUpgy",
        "outputId": "af6e7b35-8acb-4a3d-c6e8-c7ce90fd2ca8"
      },
      "execution_count": null,
      "outputs": [
        {
          "output_type": "execute_result",
          "data": {
            "text/plain": [
              "0"
            ]
          },
          "metadata": {},
          "execution_count": 25
        }
      ]
    },
    {
      "cell_type": "code",
      "source": [
        "plt.imshow(x_train[36251] , cmap=\"gray\")\n",
        "print(\"original value \" , y_train[36251] , \"predicted : \" , result )\n",
        "plt.show()"
      ],
      "metadata": {
        "colab": {
          "base_uri": "https://localhost:8080/",
          "height": 448
        },
        "id": "taAUE3U8U4QC",
        "outputId": "37e6293e-5242-4ec7-f981-586c11b2745d"
      },
      "execution_count": null,
      "outputs": [
        {
          "output_type": "stream",
          "name": "stdout",
          "text": [
            "original value  0 predicted :  0\n"
          ]
        },
        {
          "output_type": "display_data",
          "data": {
            "text/plain": [
              "<Figure size 640x480 with 1 Axes>"
            ],
            "image/png": "[encoded data removed]"
          },
          "metadata": {}
        }
      ]
    },
    {
      "cell_type": "code",
      "source": [
        "x_inputs = Input(shape = x_train.shape[1:])\n",
        "conv1    = Conv2D(128 ,(3,3) , activation = 'relu' )(x_inputs)\n",
        "batch1   = BatchNormalization()(conv1)\n",
        "conv2    = Conv2D(100 , (3,3) , activation=\"relu\" )(batch1)\n",
        "batch2   = BatchNormalization()(conv2)\n",
        "max1     = MaxPooling2D()(batch2)\n",
        "\n",
        "\n",
        "conv3    = Conv2D(50 , (3,3) , activation=\"relu\" )(max1)\n",
        "batch3   = BatchNormalization()(conv3)\n",
        "max2     = MaxPooling2D()(batch3)\n",
        "falt1    = Flatten()(max2)\n",
        "\n",
        "dens1    = Dense(128 , activation=\"relu\" )(falt1)\n",
        "dropout1 = Dropout(0.2)(dens1)\n",
        "dens2    = Dense(50 , activation=\"relu\" )(dropout1)\n",
        "dropout2 = Dropout(0.2)(dens2)\n",
        "dens3    = Dense(20 , activation=\"relu\" )(dropout2)\n",
        "dens4    = Dense(10 , activation=\"softmax\" )(dens3)\n",
        "model2 = Model(inputs = x_inputs , outputs = dens4 )\n",
        "\n",
        "\n",
        "\n",
        "\n",
        "\n",
        "\n",
        "\n",
        "\n"
      ],
      "metadata": {
        "id": "sRCqEDswVJGx"
      },
      "execution_count": null,
      "outputs": []
    },
    {
      "cell_type": "code",
      "source": [
        "model2.summary()"
      ],
      "metadata": {
        "colab": {
          "base_uri": "https://localhost:8080/"
        },
        "id": "YU1RMTrfkVKM",
        "outputId": "ec12a3a2-7703-45d1-efff-59b36026a614"
      },
      "execution_count": null,
      "outputs": [
        {
          "output_type": "stream",
          "name": "stdout",
          "text": [
            "Model: \"model\"\n",
            "_________________________________________________________________\n",
            " Layer (type)                Output Shape              Param #   \n",
            "=================================================================\n",
            " input_3 (InputLayer)        [(None, 28, 28, 1)]       0         \n",
            "                                                                 \n",
            " conv2d_8 (Conv2D)           (None, 26, 26, 128)       1280      \n",
            "                                                                 \n",
            " batch_normalization_7 (Bat  (None, 26, 26, 128)       512       \n",
            " chNormalization)                                                \n",
            "                                                                 \n",
            " conv2d_9 (Conv2D)           (None, 24, 24, 100)       115300    \n",
            "                                                                 \n",
            " batch_normalization_8 (Bat  (None, 24, 24, 100)       400       \n",
            " chNormalization)                                                \n",
            "                                                                 \n",
            " max_pooling2d_4 (MaxPoolin  (None, 12, 12, 100)       0         \n",
            " g2D)                                                            \n",
            "                                                                 \n",
            " conv2d_10 (Conv2D)          (None, 10, 10, 50)        45050     \n",
            "                                                                 \n",
            " batch_normalization_9 (Bat  (None, 10, 10, 50)        200       \n",
            " chNormalization)                                                \n",
            "                                                                 \n",
            " max_pooling2d_5 (MaxPoolin  (None, 5, 5, 50)          0         \n",
            " g2D)                                                            \n",
            "                                                                 \n",
            " flatten_2 (Flatten)         (None, 1250)              0         \n",
            "                                                                 \n",
            " dense_4 (Dense)             (None, 128)               160128    \n",
            "                                                                 \n",
            " dropout_2 (Dropout)         (None, 128)               0         \n",
            "                                                                 \n",
            " dense_5 (Dense)             (None, 50)                6450      \n",
            "                                                                 \n",
            " dropout_3 (Dropout)         (None, 50)                0         \n",
            "                                                                 \n",
            " dense_6 (Dense)             (None, 20)                1020      \n",
            "                                                                 \n",
            " dense_7 (Dense)             (None, 10)                210       \n",
            "                                                                 \n",
            "=================================================================\n",
            "Total params: 330550 (1.26 MB)\n",
            "Trainable params: 329994 (1.26 MB)\n",
            "Non-trainable params: 556 (2.17 KB)\n",
            "_________________________________________________________________\n"
          ]
        }
      ]
    },
    {
      "cell_type": "code",
      "source": [
        "model2.compile(loss = 'categorical_crossentropy' , metrics = ['acc'] , optimizer= 'adam' )"
      ],
      "metadata": {
        "id": "BBAYo9zokeTP"
      },
      "execution_count": null,
      "outputs": []
    },
    {
      "cell_type": "code",
      "source": [
        "ali2 = model2.fit(x_train , new_y_train , epochs=10 , batch_size=50 , validation_split= 0.2  )"
      ],
      "metadata": {
        "colab": {
          "base_uri": "https://localhost:8080/"
        },
        "id": "L_NTWHq7kpOv",
        "outputId": "cdfa6d07-9c9d-44ac-e503-3bcdd02822dc"
      },
      "execution_count": null,
      "outputs": [
        {
          "output_type": "stream",
          "name": "stdout",
          "text": [
            "Epoch 1/10\n",
            "960/960 [==============================] - 15s 11ms/step - loss: 0.2676 - acc: 0.9187 - val_loss: 0.0658 - val_acc: 0.9837\n",
            "Epoch 2/10\n",
            "960/960 [==============================] - 11s 11ms/step - loss: 0.0762 - acc: 0.9799 - val_loss: 0.0499 - val_acc: 0.9866\n",
            "Epoch 3/10\n",
            "960/960 [==============================] - 10s 11ms/step - loss: 0.0560 - acc: 0.9849 - val_loss: 0.0443 - val_acc: 0.9879\n",
            "Epoch 4/10\n",
            "960/960 [==============================] - 11s 11ms/step - loss: 0.0446 - acc: 0.9877 - val_loss: 0.0369 - val_acc: 0.9904\n",
            "Epoch 5/10\n",
            "960/960 [==============================] - 10s 10ms/step - loss: 0.0365 - acc: 0.9904 - val_loss: 0.0484 - val_acc: 0.9887\n",
            "Epoch 6/10\n",
            "960/960 [==============================] - 10s 10ms/step - loss: 0.0339 - acc: 0.9908 - val_loss: 0.0516 - val_acc: 0.9873\n",
            "Epoch 7/10\n",
            "960/960 [==============================] - 10s 11ms/step - loss: 0.0289 - acc: 0.9924 - val_loss: 0.0382 - val_acc: 0.9906\n",
            "Epoch 8/10\n",
            "960/960 [==============================] - 10s 11ms/step - loss: 0.0229 - acc: 0.9935 - val_loss: 0.0355 - val_acc: 0.9926\n",
            "Epoch 9/10\n",
            "960/960 [==============================] - 10s 11ms/step - loss: 0.0208 - acc: 0.9946 - val_loss: 0.0480 - val_acc: 0.9898\n",
            "Epoch 10/10\n",
            "960/960 [==============================] - 11s 11ms/step - loss: 0.0201 - acc: 0.9942 - val_loss: 0.0429 - val_acc: 0.9905\n"
          ]
        }
      ]
    },
    {
      "cell_type": "code",
      "source": [
        "model2.evaluate(x_test , new_y_test )"
      ],
      "metadata": {
        "colab": {
          "base_uri": "https://localhost:8080/"
        },
        "id": "3W-Dl9oCk8Ud",
        "outputId": "14879730-cef9-4904-8dd8-45073ee67875"
      },
      "execution_count": null,
      "outputs": [
        {
          "output_type": "stream",
          "name": "stdout",
          "text": [
            "313/313 [==============================] - 2s 5ms/step - loss: 0.0259 - acc: 0.9933\n"
          ]
        },
        {
          "output_type": "execute_result",
          "data": {
            "text/plain": [
              "[0.02594161406159401, 0.9933000206947327]"
            ]
          },
          "metadata": {},
          "execution_count": 35
        }
      ]
    },
    {
      "cell_type": "code",
      "source": [
        "model2.save('model2.h5')"
      ],
      "metadata": {
        "colab": {
          "base_uri": "https://localhost:8080/"
        },
        "id": "4V00q6tklhZC",
        "outputId": "ffc6ca13-867f-4ac0-9808-781b0232614b"
      },
      "execution_count": null,
      "outputs": [
        {
          "output_type": "stream",
          "name": "stderr",
          "text": [
            "/usr/local/lib/python3.10/dist-packages/keras/src/engine/training.py:3103: UserWarning: You are saving your model as an HDF5 file via `model.save()`. This file format is considered legacy. We recommend using instead the native Keras format, e.g. `model.save('my_model.keras')`.\n",
            "  saving_api.save_model(\n"
          ]
        }
      ]
    },
    {
      "cell_type": "code",
      "source": [
        "model2.summary()"
      ],
      "metadata": {
        "colab": {
          "base_uri": "https://localhost:8080/"
        },
        "id": "0JV3M1ROpMw2",
        "outputId": "b5281cde-3e7d-4ab4-e443-f0b364be7b9b"
      },
      "execution_count": null,
      "outputs": [
        {
          "output_type": "stream",
          "name": "stdout",
          "text": [
            "Model: \"model\"\n",
            "_________________________________________________________________\n",
            " Layer (type)                Output Shape              Param #   \n",
            "=================================================================\n",
            " input_3 (InputLayer)        [(None, 28, 28, 1)]       0         \n",
            "                                                                 \n",
            " conv2d_8 (Conv2D)           (None, 26, 26, 128)       1280      \n",
            "                                                                 \n",
            " batch_normalization_7 (Bat  (None, 26, 26, 128)       512       \n",
            " chNormalization)                                                \n",
            "                                                                 \n",
            " conv2d_9 (Conv2D)           (None, 24, 24, 100)       115300    \n",
            "                                                                 \n",
            " batch_normalization_8 (Bat  (None, 24, 24, 100)       400       \n",
            " chNormalization)                                                \n",
            "                                                                 \n",
            " max_pooling2d_4 (MaxPoolin  (None, 12, 12, 100)       0         \n",
            " g2D)                                                            \n",
            "                                                                 \n",
            " conv2d_10 (Conv2D)          (None, 10, 10, 50)        45050     \n",
            "                                                                 \n",
            " batch_normalization_9 (Bat  (None, 10, 10, 50)        200       \n",
            " chNormalization)                                                \n",
            "                                                                 \n",
            " max_pooling2d_5 (MaxPoolin  (None, 5, 5, 50)          0         \n",
            " g2D)                                                            \n",
            "                                                                 \n",
            " flatten_2 (Flatten)         (None, 1250)              0         \n",
            "                                                                 \n",
            " dense_4 (Dense)             (None, 128)               160128    \n",
            "                                                                 \n",
            " dropout_2 (Dropout)         (None, 128)               0         \n",
            "                                                                 \n",
            " dense_5 (Dense)             (None, 50)                6450      \n",
            "                                                                 \n",
            " dropout_3 (Dropout)         (None, 50)                0         \n",
            "                                                                 \n",
            " dense_6 (Dense)             (None, 20)                1020      \n",
            "                                                                 \n",
            " dense_7 (Dense)             (None, 10)                210       \n",
            "                                                                 \n",
            "=================================================================\n",
            "Total params: 330550 (1.26 MB)\n",
            "Trainable params: 329994 (1.26 MB)\n",
            "Non-trainable params: 556 (2.17 KB)\n",
            "_________________________________________________________________\n"
          ]
        }
      ]
    },
    {
      "cell_type": "code",
      "source": [
        "for i , j  in enumerate(model2.layers ) :\n",
        "  print(i , j )"
      ],
      "metadata": {
        "colab": {
          "base_uri": "https://localhost:8080/"
        },
        "id": "UowD80aIpStH",
        "outputId": "3cad499b-14df-46c3-f470-8794fbd0922a"
      },
      "execution_count": null,
      "outputs": [
        {
          "output_type": "stream",
          "name": "stdout",
          "text": [
            "0 <keras.src.engine.input_layer.InputLayer object at 0x77fd880595d0>\n",
            "1 <keras.src.layers.convolutional.conv2d.Conv2D object at 0x77fd88059db0>\n",
            "2 <keras.src.layers.normalization.batch_normalization.BatchNormalization object at 0x77fd8805a710>\n",
            "3 <keras.src.layers.convolutional.conv2d.Conv2D object at 0x77fd87e0de40>\n",
            "4 <keras.src.layers.normalization.batch_normalization.BatchNormalization object at 0x77fd87e0c3d0>\n",
            "5 <keras.src.layers.pooling.max_pooling2d.MaxPooling2D object at 0x77fe01b16e90>\n",
            "6 <keras.src.layers.convolutional.conv2d.Conv2D object at 0x77fd87e0cb80>\n",
            "7 <keras.src.layers.normalization.batch_normalization.BatchNormalization object at 0x77fd8805a170>\n",
            "8 <keras.src.layers.pooling.max_pooling2d.MaxPooling2D object at 0x77fd87df6ef0>\n",
            "9 <keras.src.layers.reshaping.flatten.Flatten object at 0x77fd87e0f010>\n",
            "10 <keras.src.layers.core.dense.Dense object at 0x77fd87f20df0>\n",
            "11 <keras.src.layers.regularization.dropout.Dropout object at 0x77fd87f234c0>\n",
            "12 <keras.src.layers.core.dense.Dense object at 0x77fd87dc4e80>\n",
            "13 <keras.src.layers.regularization.dropout.Dropout object at 0x77fd87e0cd00>\n",
            "14 <keras.src.layers.core.dense.Dense object at 0x77fd87dc5e10>\n",
            "15 <keras.src.layers.core.dense.Dense object at 0x77fd87dc6800>\n"
          ]
        }
      ]
    },
    {
      "cell_type": "code",
      "source": [
        "t.shape"
      ],
      "metadata": {
        "colab": {
          "base_uri": "https://localhost:8080/"
        },
        "id": "84Hyt52ApqDE",
        "outputId": "0af3e457-3388-4fc8-fda0-ffed31f98e50"
      },
      "execution_count": null,
      "outputs": [
        {
          "output_type": "execute_result",
          "data": {
            "text/plain": [
              "(1, 28, 28, 1)"
            ]
          },
          "metadata": {},
          "execution_count": 51
        }
      ]
    },
    {
      "cell_type": "code",
      "source": [
        "model2.predict(t)"
      ],
      "metadata": {
        "id": "gwrTPF6fpSvs"
      },
      "execution_count": null,
      "outputs": []
    },
    {
      "cell_type": "code",
      "source": [],
      "metadata": {
        "id": "AAPCgYQVqy6e"
      },
      "execution_count": null,
      "outputs": []
    },
    {
      "cell_type": "code",
      "source": [
        "conv_layer = model2.get_layer('conv2d_9')\n",
        "\n",
        "# Pass the image through the model and get the convolutional layer output\n",
        "feature_maps = model2.predict(t)\n",
        "\n",
        "# Visualize the feature maps\n",
        "num_filters = feature_maps.shape[-1]\n",
        "plt.figure(figsize=(16, 8))\n",
        "for i in range(num_filters):\n",
        "    plt.subplot(4, 8, i + 1)\n",
        "    plt.imshow(feature_maps[:, :, i], cmap='gray')\n",
        "    plt.axis('off')\n",
        "plt.suptitle('Convolutional Layer Feature Maps')\n",
        "plt.show()"
      ],
      "metadata": {
        "colab": {
          "base_uri": "https://localhost:8080/",
          "height": 421
        },
        "id": "KENIwW3HpSxz",
        "outputId": "6b545fd2-5646-4819-c971-107f345157bb"
      },
      "execution_count": null,
      "outputs": [
        {
          "output_type": "stream",
          "name": "stdout",
          "text": [
            "1/1 [==============================] - 0s 59ms/step\n"
          ]
        },
        {
          "output_type": "error",
          "ename": "IndexError",
          "evalue": "too many indices for array: array is 2-dimensional, but 3 were indexed",
          "traceback": [
            "\u001b[0;31m---------------------------------------------------------------------------\u001b[0m",
            "\u001b[0;31mIndexError\u001b[0m                                Traceback (most recent call last)",
            "\u001b[0;32m<ipython-input-60-415345805349>\u001b[0m in \u001b[0;36m<cell line: 9>\u001b[0;34m()\u001b[0m\n\u001b[1;32m      9\u001b[0m \u001b[0;32mfor\u001b[0m \u001b[0mi\u001b[0m \u001b[0;32min\u001b[0m \u001b[0mrange\u001b[0m\u001b[0;34m(\u001b[0m\u001b[0mnum_filters\u001b[0m\u001b[0;34m)\u001b[0m\u001b[0;34m:\u001b[0m\u001b[0;34m\u001b[0m\u001b[0;34m\u001b[0m\u001b[0m\n\u001b[1;32m     10\u001b[0m     \u001b[0mplt\u001b[0m\u001b[0;34m.\u001b[0m\u001b[0msubplot\u001b[0m\u001b[0;34m(\u001b[0m\u001b[0;36m4\u001b[0m\u001b[0;34m,\u001b[0m \u001b[0;36m8\u001b[0m\u001b[0;34m,\u001b[0m \u001b[0mi\u001b[0m \u001b[0;34m+\u001b[0m \u001b[0;36m1\u001b[0m\u001b[0;34m)\u001b[0m\u001b[0;34m\u001b[0m\u001b[0;34m\u001b[0m\u001b[0m\n\u001b[0;32m---> 11\u001b[0;31m     \u001b[0mplt\u001b[0m\u001b[0;34m.\u001b[0m\u001b[0mimshow\u001b[0m\u001b[0;34m(\u001b[0m\u001b[0mfeature_maps\u001b[0m\u001b[0;34m[\u001b[0m\u001b[0;34m:\u001b[0m\u001b[0;34m,\u001b[0m \u001b[0;34m:\u001b[0m\u001b[0;34m,\u001b[0m \u001b[0mi\u001b[0m\u001b[0;34m]\u001b[0m\u001b[0;34m,\u001b[0m \u001b[0mcmap\u001b[0m\u001b[0;34m=\u001b[0m\u001b[0;34m'gray'\u001b[0m\u001b[0;34m)\u001b[0m\u001b[0;34m\u001b[0m\u001b[0;34m\u001b[0m\u001b[0m\n\u001b[0m\u001b[1;32m     12\u001b[0m     \u001b[0mplt\u001b[0m\u001b[0;34m.\u001b[0m\u001b[0maxis\u001b[0m\u001b[0;34m(\u001b[0m\u001b[0;34m'off'\u001b[0m\u001b[0;34m)\u001b[0m\u001b[0;34m\u001b[0m\u001b[0;34m\u001b[0m\u001b[0m\n\u001b[1;32m     13\u001b[0m \u001b[0mplt\u001b[0m\u001b[0;34m.\u001b[0m\u001b[0msuptitle\u001b[0m\u001b[0;34m(\u001b[0m\u001b[0;34m'Convolutional Layer Feature Maps'\u001b[0m\u001b[0;34m)\u001b[0m\u001b[0;34m\u001b[0m\u001b[0;34m\u001b[0m\u001b[0m\n",
            "\u001b[0;31mIndexError\u001b[0m: too many indices for array: array is 2-dimensional, but 3 were indexed"
          ]
        },
        {
          "output_type": "display_data",
          "data": {
            "text/plain": [
              "<Figure size 1600x800 with 1 Axes>"
            ],
            "image/png": "[encoded data removed]"
          },
          "metadata": {}
        }
      ]
    },
    {
      "cell_type": "code",
      "source": [
        "plt.plot(feature_maps[0])\n",
        "plt.show()"
      ],
      "metadata": {
        "colab": {
          "base_uri": "https://localhost:8080/",
          "height": 430
        },
        "id": "LWJ8K-eRpS0M",
        "outputId": "827d8dbd-00e0-4ed4-b28d-ceb26cc8abe5"
      },
      "execution_count": null,
      "outputs": [
        {
          "output_type": "display_data",
          "data": {
            "text/plain": [
              "<Figure size 640x480 with 1 Axes>"
            ],
            "image/png": "[encoded data removed]"
          },
          "metadata": {}
        }
      ]
    },
    {
      "cell_type": "code",
      "source": [
        "from tensorflow.keras.saving import load_model"
      ],
      "metadata": {
        "id": "0n1_w3mPmwbX"
      },
      "execution_count": null,
      "outputs": []
    },
    {
      "cell_type": "code",
      "source": [
        "model3 = load_model('/content/model2.h5')"
      ],
      "metadata": {
        "id": "L4uVpWNEm7pj"
      },
      "execution_count": null,
      "outputs": []
    },
    {
      "cell_type": "code",
      "source": [
        "model3.summary()"
      ],
      "metadata": {
        "colab": {
          "base_uri": "https://localhost:8080/"
        },
        "id": "sa8rYeONov4l",
        "outputId": "e15b643a-1722-4b57-da98-d89f207c079f"
      },
      "execution_count": null,
      "outputs": [
        {
          "output_type": "stream",
          "name": "stdout",
          "text": [
            "Model: \"model\"\n",
            "_________________________________________________________________\n",
            " Layer (type)                Output Shape              Param #   \n",
            "=================================================================\n",
            " input_3 (InputLayer)        [(None, 28, 28, 1)]       0         \n",
            "                                                                 \n",
            " conv2d_8 (Conv2D)           (None, 26, 26, 128)       1280      \n",
            "                                                                 \n",
            " batch_normalization_7 (Bat  (None, 26, 26, 128)       512       \n",
            " chNormalization)                                                \n",
            "                                                                 \n",
            " conv2d_9 (Conv2D)           (None, 24, 24, 100)       115300    \n",
            "                                                                 \n",
            " batch_normalization_8 (Bat  (None, 24, 24, 100)       400       \n",
            " chNormalization)                                                \n",
            "                                                                 \n",
            " max_pooling2d_4 (MaxPoolin  (None, 12, 12, 100)       0         \n",
            " g2D)                                                            \n",
            "                                                                 \n",
            " conv2d_10 (Conv2D)          (None, 10, 10, 50)        45050     \n",
            "                                                                 \n",
            " batch_normalization_9 (Bat  (None, 10, 10, 50)        200       \n",
            " chNormalization)                                                \n",
            "                                                                 \n",
            " max_pooling2d_5 (MaxPoolin  (None, 5, 5, 50)          0         \n",
            " g2D)                                                            \n",
            "                                                                 \n",
            " flatten_2 (Flatten)         (None, 1250)              0         \n",
            "                                                                 \n",
            " dense_4 (Dense)             (None, 128)               160128    \n",
            "                                                                 \n",
            " dropout_2 (Dropout)         (None, 128)               0         \n",
            "                                                                 \n",
            " dense_5 (Dense)             (None, 50)                6450      \n",
            "                                                                 \n",
            " dropout_3 (Dropout)         (None, 50)                0         \n",
            "                                                                 \n",
            " dense_6 (Dense)             (None, 20)                1020      \n",
            "                                                                 \n",
            " dense_7 (Dense)             (None, 10)                210       \n",
            "                                                                 \n",
            "=================================================================\n",
            "Total params: 330550 (1.26 MB)\n",
            "Trainable params: 329994 (1.26 MB)\n",
            "Non-trainable params: 556 (2.17 KB)\n",
            "_________________________________________________________________\n"
          ]
        }
      ]
    },
    {
      "cell_type": "code",
      "source": [
        "model3.weights"
      ],
      "metadata": {
        "colab": {
          "base_uri": "https://localhost:8080/"
        },
        "id": "2E8OAiWyoxex",
        "outputId": "fb7156f2-1145-46e1-edb7-9df0a793f979"
      },
      "execution_count": null,
      "outputs": [
        {
          "output_type": "execute_result",
          "data": {
            "text/plain": [
              "[<tf.Variable 'conv2d_8/kernel:0' shape=(3, 3, 1, 128) dtype=float32, numpy=\n",
              " array([[[[-0.08371618, -0.1278502 ,  0.1822222 , ..., -0.03236255,\n",
              "           -0.08374351, -0.19290118]],\n",
              " \n",
              "         [[-0.10562257, -0.01928998,  0.13892354, ...,  0.06374344,\n",
              "           -0.14151327, -0.06746937]],\n",
              " \n",
              "         [[-0.01793234, -0.16364478, -0.11148708, ..., -0.05165941,\n",
              "            0.01618325,  0.08770175]]],\n",
              " \n",
              " \n",
              "        [[[ 0.0099999 ,  0.00711812,  0.07185686, ..., -0.07155597,\n",
              "           -0.01291988, -0.01097362]],\n",
              " \n",
              "         [[ 0.02152785,  0.03971166,  0.06181263, ..., -0.03798105,\n",
              "            0.13890913,  0.13927236]],\n",
              " \n",
              "         [[-0.09800124, -0.2352101 , -0.16096006, ..., -0.12038146,\n",
              "            0.15685722,  0.00614455]]],\n",
              " \n",
              " \n",
              "        [[[-0.07779251,  0.2110768 , -0.16926506, ...,  0.01067553,\n",
              "           -0.03972401,  0.1593787 ]],\n",
              " \n",
              "         [[-0.02662209,  0.00837359, -0.16632016, ..., -0.12219803,\n",
              "            0.0357429 ,  0.07315489]],\n",
              " \n",
              "         [[-0.04378841, -0.08839139, -0.13478595, ..., -0.06545135,\n",
              "           -0.13157554, -0.10947618]]]], dtype=float32)>,\n",
              " <tf.Variable 'conv2d_8/bias:0' shape=(128,) dtype=float32, numpy=\n",
              " array([-0.0238122 ,  0.00936562, -0.00389369, -0.05077731, -0.00101935,\n",
              "        -0.00834956, -0.0076666 ,  0.06145414, -0.02276867,  0.03219117,\n",
              "        -0.08435458, -0.04102058, -0.03945513, -0.05738024,  0.04294082,\n",
              "        -0.02349428, -0.06571166,  0.0244048 ,  0.00707518,  0.00333044,\n",
              "        -0.02763855, -0.0280107 , -0.02811659, -0.01491305, -0.03210574,\n",
              "         0.01619039,  0.01280068,  0.02166807, -0.0074385 , -0.0494796 ,\n",
              "         0.05040392, -0.01842094, -0.00861697,  0.04061895,  0.04364863,\n",
              "         0.00442193, -0.0944848 , -0.01005052,  0.01237731, -0.07135519,\n",
              "        -0.08113419, -0.05985858, -0.0132315 ,  0.04126554,  0.07647672,\n",
              "         0.01621197, -0.09349973, -0.07727734,  0.04525448,  0.01861641,\n",
              "        -0.0119913 , -0.04036778, -0.00753485, -0.05547089, -0.02904312,\n",
              "        -0.08147322,  0.05309273, -0.00013732,  0.00997706, -0.03047221,\n",
              "        -0.03125198,  0.09645008,  0.0437356 ,  0.0244772 , -0.00551774,\n",
              "         0.03488633,  0.01696354,  0.00319856, -0.06913288, -0.05943013,\n",
              "         0.02409439,  0.02120137, -0.07345327, -0.03650415,  0.04692993,\n",
              "        -0.01490076,  0.03074241, -0.00787712, -0.01593422,  0.01782463,\n",
              "        -0.02957972, -0.12541728, -0.06863881,  0.02105073, -0.00815111,\n",
              "         0.00361024, -0.06362133, -0.02925788, -0.01226094,  0.        ,\n",
              "        -0.00573168, -0.04027821, -0.08537795,  0.02886299, -0.0042217 ,\n",
              "         0.00952053, -0.01354946, -0.03661099,  0.01982813, -0.0116111 ,\n",
              "         0.00300891, -0.00519377, -0.05971189, -0.07482509, -0.03608098,\n",
              "        -0.05201356,  0.03924716, -0.00196138, -0.12055267, -0.00267937,\n",
              "        -0.01920523,  0.05587399, -0.07760945,  0.03616641,  0.03958846,\n",
              "         0.00932262,  0.02219217,  0.04949746,  0.03363853, -0.0175824 ,\n",
              "        -0.03113395,  0.02838442, -0.02605455,  0.03840597,  0.01724281,\n",
              "        -0.03670805,  0.01660663,  0.04106735], dtype=float32)>,\n",
              " <tf.Variable 'batch_normalization_7/gamma:0' shape=(128,) dtype=float32, numpy=\n",
              " array([0.93480563, 1.1217426 , 1.2449682 , 0.9427635 , 1.0484784 ,\n",
              "        0.93393475, 0.9652467 , 1.1657395 , 0.8854007 , 1.1688974 ,\n",
              "        0.90412724, 0.94285417, 0.94590724, 0.7601077 , 0.8556786 ,\n",
              "        0.9129351 , 1.0767747 , 0.99503475, 0.7979571 , 0.9338563 ,\n",
              "        0.9577329 , 0.93647337, 0.95006484, 1.0788641 , 0.8350053 ,\n",
              "        0.9727427 , 0.9850074 , 1.0663894 , 0.8137142 , 0.9034876 ,\n",
              "        1.0489327 , 0.9442482 , 1.1710666 , 1.0688183 , 0.9366697 ,\n",
              "        1.0026815 , 0.95893896, 0.91236246, 1.0774338 , 0.8616192 ,\n",
              "        0.94094074, 0.9328854 , 0.9892985 , 1.1527389 , 0.80939317,\n",
              "        0.9311035 , 1.1606886 , 1.1334289 , 1.2642984 , 0.99224985,\n",
              "        0.9094326 , 0.9152752 , 0.99269813, 0.7792682 , 0.7307344 ,\n",
              "        0.9420392 , 1.0120549 , 1.0596462 , 1.0283053 , 0.9680735 ,\n",
              "        0.91888684, 1.0806004 , 1.0236653 , 0.79913497, 0.9122536 ,\n",
              "        0.9507928 , 1.0628592 , 0.83483   , 0.8547732 , 0.94495416,\n",
              "        0.9311651 , 0.9272593 , 0.91893846, 0.7808111 , 1.2114446 ,\n",
              "        1.0283524 , 0.8384685 , 1.0451467 , 1.0492709 , 0.9248521 ,\n",
              "        1.03929   , 1.0913821 , 0.7515186 , 0.75880635, 0.9033529 ,\n",
              "        0.8224059 , 0.96474236, 0.943476  , 0.9722209 , 1.        ,\n",
              "        0.8066945 , 0.8123133 , 0.9411273 , 1.119294  , 0.9911503 ,\n",
              "        1.0315715 , 1.0557595 , 0.8526583 , 1.028585  , 1.0083417 ,\n",
              "        1.0338587 , 0.91913337, 0.91286737, 0.7238992 , 0.9131632 ,\n",
              "        0.65127885, 0.89080787, 0.8002459 , 0.83491886, 1.1490514 ,\n",
              "        0.8162837 , 1.2055575 , 0.971201  , 0.8259027 , 0.99497664,\n",
              "        1.2371327 , 0.9998554 , 1.0282674 , 1.1204287 , 1.0015547 ,\n",
              "        0.9085506 , 1.1380545 , 0.8289807 , 0.70024914, 1.2101647 ,\n",
              "        0.93442816, 1.0033185 , 1.123303  ], dtype=float32)>,\n",
              " <tf.Variable 'batch_normalization_7/beta:0' shape=(128,) dtype=float32, numpy=\n",
              " array([ 0.19744079,  0.27114275,  0.17285208,  0.08759921,  0.15990542,\n",
              "         0.0251357 ,  0.11192313,  0.01194931,  0.06812769,  0.1527896 ,\n",
              "         0.11755823,  0.09470516,  0.1516272 ,  0.04441102,  0.04119391,\n",
              "         0.13132639,  0.10535394,  0.10103291, -0.06474005,  0.07487754,\n",
              "         0.18943906,  0.07317215, -0.01072715, -0.15173978,  0.11541659,\n",
              "         0.14187352,  0.08973012,  0.26654363,  0.08605432,  0.12612328,\n",
              "         0.16901326,  0.22179234,  0.00715387, -0.00223421,  0.21228272,\n",
              "         0.08546313,  0.06436111,  0.08101243,  0.07176269,  0.04080744,\n",
              "         0.01132304,  0.08020109, -0.13556145,  0.35194102,  0.12258646,\n",
              "         0.15997854,  0.06183359,  0.1346687 ,  0.22097863, -0.10126638,\n",
              "         0.04852792,  0.07190883, -0.241699  ,  0.00674762,  0.11532123,\n",
              "         0.11466772,  0.08559884,  0.18960333,  0.0347037 , -0.00161708,\n",
              "         0.06682703,  0.09817433,  0.17327362,  0.12288141,  0.32150957,\n",
              "         0.16590592,  0.11178715, -0.06808238,  0.07828263,  0.02447614,\n",
              "         0.18047722,  0.10048301,  0.04074863, -0.08330385,  0.25779322,\n",
              "         0.08114151,  0.23588125,  0.10870311,  0.11152612,  0.19520599,\n",
              "         0.1408014 ,  0.21458556,  0.05698017,  0.05613086,  0.03513593,\n",
              "         0.20383781,  0.00323311,  0.17999065,  0.09677823, -0.37224397,\n",
              "         0.0394128 , -0.01400811,  0.0857216 ,  0.10108715,  0.41009548,\n",
              "         0.0751346 , -0.08839038,  0.01277183,  0.25130162,  0.12684785,\n",
              "         0.20638162,  0.07996012, -0.00489715,  0.19445062,  0.17961052,\n",
              "         0.05736972,  0.15079002,  0.15239413,  0.10778257,  0.17720705,\n",
              "         0.16750936,  0.22478263,  0.08065686,  0.08469091,  0.07228836,\n",
              "         0.06611165,  0.28159225,  0.14616062,  0.3295772 ,  0.11521555,\n",
              "         0.08852611,  0.31384513,  0.07046173,  0.02674381,  0.23426326,\n",
              "        -0.01383504,  0.06590936,  0.15445924], dtype=float32)>,\n",
              " <tf.Variable 'batch_normalization_7/moving_mean:0' shape=(128,) dtype=float32, numpy=\n",
              " array([6.59536648e-10, 1.68067161e-02, 1.44614503e-02, 1.79462731e-02,\n",
              "        7.16279726e-03, 2.97573791e-03, 5.55769028e-03, 7.96144381e-02,\n",
              "        7.25819555e-04, 2.72127185e-02, 1.25251496e-02, 1.68854278e-02,\n",
              "        2.75618192e-02, 7.39363534e-03, 3.67639251e-02, 2.94111855e-03,\n",
              "        1.79717578e-02, 3.71279903e-02, 4.93885297e-03, 5.70769655e-03,\n",
              "        2.07495224e-03, 1.57372269e-05, 3.15616577e-09, 1.35041773e-04,\n",
              "        4.05000581e-04, 3.58980149e-02, 1.10252062e-02, 4.11885753e-02,\n",
              "        2.64356169e-03, 8.79685022e-03, 7.72470236e-02, 9.75139067e-03,\n",
              "        8.36933777e-03, 3.54579426e-02, 4.94613200e-02, 4.99504805e-03,\n",
              "        9.16706584e-03, 1.06354523e-03, 2.75383759e-02, 5.23184077e-04,\n",
              "        2.07984109e-16, 1.36848735e-06, 1.65168597e-36, 4.04300913e-02,\n",
              "        9.03143585e-02, 3.66052948e-02, 1.90975517e-02, 1.18804909e-02,\n",
              "        3.66925187e-02, 1.50212245e-02, 7.45426456e-04, 1.01152098e-09,\n",
              "        7.00649232e-44, 1.25175245e-06, 8.74206191e-04, 2.96718907e-02,\n",
              "        6.55850098e-02, 7.82373268e-03, 3.45811471e-02, 4.26299707e-08,\n",
              "        2.38451379e-04, 1.15440652e-01, 5.18497527e-02, 3.55915390e-02,\n",
              "        5.88519406e-03, 4.66597788e-02, 1.79364216e-02, 1.67156514e-02,\n",
              "        1.63690988e-02, 6.81176289e-07, 5.93480133e-02, 5.47961146e-02,\n",
              "        1.41613654e-08, 1.40461934e-10, 5.93144894e-02, 8.84683861e-04,\n",
              "        3.25739011e-02, 8.76506884e-03, 3.18680168e-03, 4.73779067e-02,\n",
              "        1.43012488e-02, 1.62113764e-07, 7.41414841e-09, 6.03103042e-02,\n",
              "        1.73304975e-03, 1.48289539e-02, 7.14356150e-20, 3.44966054e-02,\n",
              "        9.56650823e-03, 0.00000000e+00, 7.16255221e-04, 5.06612938e-04,\n",
              "        3.11549413e-23, 2.70254053e-02, 7.00649232e-44, 2.56455373e-02,\n",
              "        1.27082178e-03, 4.51862579e-05, 2.91376617e-02, 4.01412584e-02,\n",
              "        1.02223167e-02, 3.39667350e-02, 4.64608229e-06, 8.95670522e-03,\n",
              "        2.40715891e-02, 4.16608760e-03, 6.91132098e-02, 1.49469590e-02,\n",
              "        5.16679535e-08, 7.44139962e-03, 7.23245833e-03, 6.80956021e-02,\n",
              "        8.89103115e-03, 4.62425016e-02, 7.51810819e-02, 2.34588385e-02,\n",
              "        3.44715454e-02, 7.23710507e-02, 4.15843725e-02, 7.34691275e-03,\n",
              "        6.70001318e-04, 3.37143391e-02, 8.34570790e-04, 5.08967787e-02,\n",
              "        3.02783139e-02, 2.29907755e-06, 2.56978665e-02, 5.97426966e-02],\n",
              "       dtype=float32)>,\n",
              " <tf.Variable 'batch_normalization_7/moving_variance:0' shape=(128,) dtype=float32, numpy=\n",
              " array([3.46507306e-12, 1.05287298e-03, 2.49569863e-03, 2.60699890e-03,\n",
              "        4.11385845e-04, 1.76524583e-04, 4.56218171e-04, 4.00382141e-03,\n",
              "        1.66931477e-05, 5.50643483e-04, 1.40561548e-03, 2.61107273e-03,\n",
              "        4.77419328e-03, 6.40838232e-04, 7.50161242e-04, 2.07463192e-04,\n",
              "        3.00807180e-03, 3.45280254e-03, 1.79997485e-04, 1.36041577e-04,\n",
              "        1.45062004e-04, 4.46202250e-07, 7.71924191e-12, 6.38703159e-06,\n",
              "        2.24316227e-05, 3.55619937e-03, 2.36997003e-04, 3.52648855e-03,\n",
              "        1.10879970e-04, 9.69626184e-04, 5.87485731e-03, 1.42913836e-03,\n",
              "        1.15279795e-03, 6.39197649e-04, 2.14788318e-03, 2.39533547e-04,\n",
              "        1.02212420e-03, 5.08228331e-05, 1.07631902e-03, 1.72308719e-05,\n",
              "        1.94771049e-18, 2.99074934e-08, 6.77918770e-39, 1.90790626e-03,\n",
              "        2.62269052e-03, 4.17911401e-03, 3.08123906e-03, 1.56382285e-03,\n",
              "        7.53894623e-04, 4.48932929e-04, 3.54036420e-05, 8.24546074e-12,\n",
              "        1.25556342e-42, 1.34973845e-08, 2.93090379e-05, 5.22138691e-03,\n",
              "        3.09841055e-03, 8.83844797e-04, 1.55105023e-03, 5.90679006e-10,\n",
              "        1.43769666e-05, 3.79440142e-03, 1.90773956e-03, 1.40512292e-03,\n",
              "        6.64631953e-04, 1.57755089e-03, 1.27311272e-03, 1.65910809e-03,\n",
              "        2.39916635e-03, 2.19383178e-08, 6.52384898e-03, 6.16988773e-03,\n",
              "        1.24960861e-10, 4.91856176e-13, 2.66929436e-03, 4.25438811e-05,\n",
              "        4.78105241e-04, 7.49072351e-04, 2.32025472e-04, 5.76842343e-03,\n",
              "        1.71794440e-03, 1.94134797e-09, 5.52553107e-11, 5.32795582e-03,\n",
              "        4.12341724e-05, 9.27106303e-04, 2.75757399e-22, 7.09089125e-03,\n",
              "        8.69857555e-04, 1.25556342e-42, 1.55987382e-05, 3.62112587e-05,\n",
              "        3.66536011e-25, 9.86051629e-04, 1.25556342e-42, 2.15704064e-03,\n",
              "        1.06112449e-04, 7.51617961e-07, 1.71760493e-03, 7.42499158e-03,\n",
              "        6.52577204e-04, 6.12878241e-03, 4.73059991e-08, 9.81657649e-04,\n",
              "        3.20277223e-03, 2.87471659e-04, 4.93900105e-03, 1.77258847e-03,\n",
              "        3.62149727e-10, 9.74194380e-04, 7.44068006e-04, 4.79376270e-03,\n",
              "        9.67521511e-04, 2.60481006e-03, 8.72899499e-03, 1.56326790e-03,\n",
              "        2.71736900e-03, 5.21181570e-03, 2.53154011e-03, 8.78053252e-04,\n",
              "        4.59676048e-05, 1.94088521e-03, 4.23418824e-05, 2.45638657e-03,\n",
              "        2.14256998e-03, 3.19141051e-08, 1.10742950e-03, 4.31602122e-03],\n",
              "       dtype=float32)>,\n",
              " <tf.Variable 'conv2d_9/kernel:0' shape=(3, 3, 128, 100) dtype=float32, numpy=\n",
              " array([[[[-1.05307087e-01,  8.55247080e-02, -5.11333868e-02, ...,\n",
              "           -7.24602416e-02,  1.53842270e-02, -1.69823453e-01],\n",
              "          [-7.17256293e-02,  5.15736081e-02,  7.38530979e-03, ...,\n",
              "           -9.83360484e-02,  4.46899123e-02, -1.15025252e-01],\n",
              "          [-6.93120882e-02,  2.86086470e-01, -1.95053920e-01, ...,\n",
              "            9.53176692e-02, -3.90729606e-02,  4.07253020e-03],\n",
              "          ...,\n",
              "          [ 5.76412901e-02, -4.80777770e-02, -4.72055636e-02, ...,\n",
              "           -5.01657538e-02, -1.26884412e-02, -5.51271550e-02],\n",
              "          [-1.49473725e-02,  7.02834427e-02, -9.98602286e-02, ...,\n",
              "           -8.07797350e-03, -2.07869951e-02, -5.01270145e-02],\n",
              "          [-8.11269358e-02,  3.25344838e-02, -7.84279108e-02, ...,\n",
              "            2.91799251e-02,  4.28034328e-02, -1.36980535e-02]],\n",
              " \n",
              "         [[-1.35084271e-01,  1.03232369e-01, -1.09966479e-01, ...,\n",
              "           -5.54142520e-02,  5.10976948e-02, -2.05888763e-01],\n",
              "          [ 5.62841557e-02,  3.26930955e-02,  8.21520984e-02, ...,\n",
              "           -3.34922448e-02, -3.74934822e-02, -1.68170542e-01],\n",
              "          [-1.67784110e-01,  2.05483198e-01, -1.21591508e-01, ...,\n",
              "            5.11262566e-02,  3.19100916e-02,  1.20381728e-01],\n",
              "          ...,\n",
              "          [ 5.28941043e-02, -2.78651179e-03,  1.66265834e-02, ...,\n",
              "           -4.31040376e-02, -8.43603222e-04, -4.80631813e-02],\n",
              "          [-1.20617516e-01,  4.03678827e-02, -5.48002906e-02, ...,\n",
              "            2.13349261e-03, -5.55364415e-02,  5.02128489e-02],\n",
              "          [-1.05780043e-01, -1.04951300e-01, -9.34814811e-02, ...,\n",
              "            6.75361082e-02, -8.86078551e-02, -7.37008750e-02]],\n",
              " \n",
              "         [[-8.85126442e-02,  8.01155642e-02, -4.08502892e-02, ...,\n",
              "           -9.12475064e-02, -1.10514872e-02, -1.13437019e-01],\n",
              "          [-1.07564755e-01,  4.50048456e-03, -9.60824490e-02, ...,\n",
              "            1.82222232e-01, -8.19812268e-02, -1.88234836e-01],\n",
              "          [-9.23101157e-02,  3.10489327e-01, -3.65979038e-02, ...,\n",
              "            8.46787393e-02,  6.43940791e-02,  1.67300209e-01],\n",
              "          ...,\n",
              "          [-3.78774144e-02,  5.39630689e-02, -7.84988031e-02, ...,\n",
              "            1.04581658e-02,  1.38198016e-02,  2.41176113e-02],\n",
              "          [ 4.84894402e-02, -5.05621620e-02, -4.27385792e-02, ...,\n",
              "            3.45800966e-02, -6.97737411e-02, -6.33847415e-02],\n",
              "          [ 7.13589862e-02, -1.22375391e-01, -1.25872955e-01, ...,\n",
              "            1.06576949e-01, -1.65199146e-01, -8.23285151e-03]]],\n",
              " \n",
              " \n",
              "        [[[-1.00705579e-01,  8.14487487e-02, -2.65666116e-02, ...,\n",
              "           -1.11302130e-01,  5.15179038e-02, -1.50086880e-01],\n",
              "          [-8.57943371e-02, -1.82152793e-01,  9.73895076e-05, ...,\n",
              "           -1.25493854e-01,  4.16228361e-02, -1.28003448e-01],\n",
              "          [-9.98973623e-02,  1.18418917e-01, -5.27231209e-02, ...,\n",
              "           -1.73058491e-02, -3.07961311e-02, -1.00741379e-01],\n",
              "          ...,\n",
              "          [-9.00758803e-03, -6.44051237e-04, -2.84901988e-02, ...,\n",
              "           -5.68913482e-02, -2.57623680e-02, -3.14233042e-02],\n",
              "          [-1.39202893e-01,  6.39497936e-02, -2.14755069e-02, ...,\n",
              "           -7.07536750e-03, -1.30238399e-01, -1.14151388e-01],\n",
              "          [-3.60322632e-02, -8.47775191e-02, -3.16562317e-02, ...,\n",
              "           -1.32230848e-01,  3.29857208e-02, -1.12153068e-01]],\n",
              " \n",
              "         [[-1.44778848e-01,  1.19912617e-01, -7.07084313e-02, ...,\n",
              "           -8.00169781e-02, -3.07265595e-02, -1.94525108e-01],\n",
              "          [-2.96974052e-02,  3.59366201e-02, -3.40574868e-02, ...,\n",
              "           -1.34340838e-01,  5.56703098e-02, -1.34536505e-01],\n",
              "          [-6.85122758e-02,  1.16039962e-01,  1.93000340e-03, ...,\n",
              "           -3.53449211e-02, -2.48038508e-02, -8.47838819e-02],\n",
              "          ...,\n",
              "          [ 1.45863071e-02,  6.23734668e-02, -5.17638437e-02, ...,\n",
              "            3.84442741e-03, -4.75145727e-02,  5.46621904e-02],\n",
              "          [ 1.45663917e-02, -6.10697158e-02, -4.71884534e-02, ...,\n",
              "            1.05629325e-01,  3.94686088e-02, -4.47295979e-02],\n",
              "          [-3.59299369e-02, -5.19564599e-02, -9.71590206e-02, ...,\n",
              "           -3.20019200e-02,  2.82424632e-02, -1.31918103e-01]],\n",
              " \n",
              "         [[-1.65979385e-01,  8.70381519e-02, -2.65537649e-02, ...,\n",
              "           -1.04482889e-01,  7.50435293e-02, -2.16508195e-01],\n",
              "          [-5.54343723e-02, -2.20896564e-02, -2.03158483e-01, ...,\n",
              "            1.57641247e-01,  4.95816581e-02, -1.46197543e-01],\n",
              "          [-1.60533865e-03,  1.36264414e-01,  5.06589450e-02, ...,\n",
              "            2.58687735e-02, -7.95990303e-02,  1.22823663e-01],\n",
              "          ...,\n",
              "          [ 1.71132628e-02,  8.33857059e-02,  1.95375904e-02, ...,\n",
              "            4.20111194e-02, -3.94265354e-02, -3.93860452e-02],\n",
              "          [ 2.63046809e-02, -7.48773068e-02, -5.64750247e-02, ...,\n",
              "            2.86564287e-02, -3.01193651e-02,  9.58459917e-03],\n",
              "          [ 5.02604432e-03, -3.58564146e-02, -1.22925766e-01, ...,\n",
              "           -1.15253078e-02, -3.43596600e-02,  3.62306014e-02]]],\n",
              " \n",
              " \n",
              "        [[[-1.59397885e-01,  3.16198952e-02, -4.37873639e-02, ...,\n",
              "           -1.65430695e-01,  5.40311188e-02, -1.31474614e-01],\n",
              "          [-1.04191452e-01,  8.74153152e-02,  2.84945928e-02, ...,\n",
              "           -2.93350518e-02,  7.53596798e-02, -5.11860028e-02],\n",
              "          [-7.52627626e-02, -5.90357631e-02,  1.95481908e-02, ...,\n",
              "           -8.94461945e-02,  1.59092844e-02, -3.79786789e-01],\n",
              "          ...,\n",
              "          [ 7.72923827e-02,  8.64706263e-02,  3.73108312e-02, ...,\n",
              "           -5.09515367e-02, -1.42605957e-02, -3.34314145e-02],\n",
              "          [ 3.30851823e-02, -1.11064147e-02,  7.53394887e-03, ...,\n",
              "           -1.22892447e-01, -3.70146930e-02,  6.41989335e-02],\n",
              "          [ 5.20604290e-02,  3.10795624e-02, -1.02871582e-02, ...,\n",
              "           -2.72858944e-02,  8.95517617e-02, -1.18339621e-01]],\n",
              " \n",
              "         [[-1.61373556e-01,  9.48426947e-02, -3.37427296e-02, ...,\n",
              "           -8.38886425e-02,  3.87684293e-02, -1.28581136e-01],\n",
              "          [-2.85510067e-02,  2.04003483e-01, -7.49146342e-02, ...,\n",
              "           -4.51382659e-02,  1.51908025e-01, -2.99653877e-02],\n",
              "          [-1.08283587e-01, -2.84323208e-02,  5.76819964e-02, ...,\n",
              "           -7.89975747e-02, -3.36686820e-02, -2.74553299e-01],\n",
              "          ...,\n",
              "          [ 8.90178699e-03,  1.34486914e-01, -8.39268342e-02, ...,\n",
              "           -6.07766397e-02,  8.12478084e-03,  2.07286142e-02],\n",
              "          [-1.64689068e-02, -1.10248730e-01, -4.05587181e-02, ...,\n",
              "           -7.92488605e-02, -2.53400598e-02,  8.35666582e-02],\n",
              "          [-6.23963736e-02,  8.59322473e-02, -3.50483358e-02, ...,\n",
              "           -4.81228083e-02,  2.45189443e-02,  8.82885698e-03]],\n",
              " \n",
              "         [[-1.39650986e-01,  1.04922749e-01, -9.05382931e-02, ...,\n",
              "           -9.80092138e-02,  3.72828916e-03, -1.49763748e-01],\n",
              "          [ 2.08060048e-03,  1.94663420e-01, -1.43200696e-01, ...,\n",
              "            4.37142933e-03,  9.14409012e-02,  1.16822850e-02],\n",
              "          [ 1.75768789e-02,  7.18355477e-02,  2.02289727e-02, ...,\n",
              "           -4.54810932e-02, -3.20406631e-02, -1.48342416e-01],\n",
              "          ...,\n",
              "          [ 1.34954713e-02,  4.39875722e-02,  2.96746427e-03, ...,\n",
              "            1.13302216e-01, -3.83523223e-03,  3.86007689e-02],\n",
              "          [-7.13269785e-02, -1.69280365e-01, -2.79643368e-02, ...,\n",
              "           -1.12093613e-01, -2.01765951e-02,  9.39384326e-02],\n",
              "          [-2.18917076e-02,  2.28673536e-02, -1.11755863e-01, ...,\n",
              "           -6.33468032e-02, -6.66253492e-02,  1.02627188e-01]]]],\n",
              "       dtype=float32)>,\n",
              " <tf.Variable 'conv2d_9/bias:0' shape=(100,) dtype=float32, numpy=\n",
              " array([-0.10049386,  0.03661974, -0.05051753, -0.08943143, -0.0342192 ,\n",
              "        -0.03414213, -0.07347137, -0.01350984,  0.0445307 , -0.11512695,\n",
              "        -0.12763189, -0.07562031, -0.04902546,  0.0135678 ,  0.02126131,\n",
              "         0.03043326,  0.03398667, -0.09036851, -0.08863901, -0.11371291,\n",
              "         0.02406384, -0.10270698, -0.08393143,  0.09671763, -0.01858263,\n",
              "         0.08761067,  0.05824285, -0.10038593,  0.05971609, -0.09371556,\n",
              "        -0.09858081, -0.11153404, -0.12412561, -0.07919465, -0.11791618,\n",
              "        -0.04879959, -0.1689281 , -0.10227825, -0.08305636, -0.14618497,\n",
              "        -0.03065888, -0.07845898, -0.12819786, -0.10893012, -0.1454831 ,\n",
              "        -0.16925639, -0.05204131, -0.19072467,  0.00024776,  0.00319179,\n",
              "        -0.0931803 ,  0.03834547, -0.09068149, -0.09561438, -0.09601233,\n",
              "         0.01021107, -0.11135494, -0.15052707, -0.02346964, -0.02050657,\n",
              "         0.04861685, -0.08246074, -0.09655523, -0.05844429, -0.16509531,\n",
              "        -0.05095401, -0.08166864,  0.03604733, -0.08006144, -0.12035453,\n",
              "        -0.08564236, -0.16602467, -0.09066451, -0.00586975, -0.07903727,\n",
              "        -0.06188407, -0.03533463, -0.01317545, -0.01232426, -0.01705805,\n",
              "        -0.11566861, -0.14804108, -0.14676943, -0.0523548 , -0.11383895,\n",
              "        -0.0630969 , -0.09290187, -0.1176625 , -0.0650434 , -0.05327123,\n",
              "        -0.10919152, -0.06765556,  0.10403412, -0.12713839, -0.03403706,\n",
              "         0.03160914, -0.10904934, -0.08439733,  0.00467481, -0.1289274 ],\n",
              "       dtype=float32)>,\n",
              " <tf.Variable 'batch_normalization_8/gamma:0' shape=(100,) dtype=float32, numpy=\n",
              " array([0.80379814, 1.0352646 , 0.9390094 , 0.784478  , 0.9634502 ,\n",
              "        0.79901993, 1.0576725 , 1.0315509 , 0.8658585 , 0.9303424 ,\n",
              "        1.0728703 , 0.90546083, 0.4783707 , 0.99450105, 1.0191809 ,\n",
              "        0.9679084 , 0.4056227 , 1.0831847 , 0.9102817 , 1.0260192 ,\n",
              "        0.99612147, 1.1086601 , 0.8923169 , 1.0193474 , 0.86849695,\n",
              "        0.7808444 , 0.89463055, 1.1145878 , 0.9389991 , 1.2447952 ,\n",
              "        1.0124191 , 1.1149777 , 1.0555813 , 0.9048106 , 1.1443969 ,\n",
              "        1.0044967 , 1.013787  , 1.0678852 , 0.64710414, 1.1623684 ,\n",
              "        0.7762825 , 1.0197085 , 0.95363504, 1.0580815 , 1.0266643 ,\n",
              "        0.9043538 , 0.82059336, 1.178963  , 1.0813929 , 0.92599595,\n",
              "        1.1552272 , 0.9038345 , 1.0475558 , 1.1773382 , 0.9906177 ,\n",
              "        1.0049487 , 0.741741  , 0.78373915, 1.0738178 , 1.075608  ,\n",
              "        0.9052651 , 0.93798274, 0.82652485, 1.1078233 , 1.1310824 ,\n",
              "        0.6714031 , 0.9530788 , 0.9780886 , 0.84954405, 1.1647217 ,\n",
              "        1.0569485 , 1.1733173 , 0.81003326, 0.9051136 , 0.8142083 ,\n",
              "        0.6367675 , 0.77018905, 0.99351346, 0.98097634, 1.1518464 ,\n",
              "        0.9926063 , 1.1612496 , 0.88859236, 0.64495254, 0.88905567,\n",
              "        1.1363741 , 0.920121  , 1.1454667 , 0.77851903, 1.1033986 ,\n",
              "        0.9192589 , 1.0515383 , 0.929385  , 0.7791622 , 0.5513041 ,\n",
              "        0.80806315, 0.94441813, 1.0606502 , 0.6871312 , 1.1535275 ],\n",
              "       dtype=float32)>,\n",
              " <tf.Variable 'batch_normalization_8/beta:0' shape=(100,) dtype=float32, numpy=\n",
              " array([ 0.26822448,  0.3344502 ,  0.18576752,  0.44032085,  0.20881611,\n",
              "         0.17786504,  0.32044563,  0.28760368,  0.19222395,  0.25906262,\n",
              "         0.18763219,  0.269758  ,  0.19541188,  0.2856754 ,  0.3810254 ,\n",
              "        -0.07972697,  0.1981183 ,  0.09659019,  0.19384126,  0.3846166 ,\n",
              "         0.22787729,  0.16755675,  0.22869302,  0.3255287 ,  0.23266447,\n",
              "         0.13687348,  0.29710764,  0.27282992,  0.29998142, -0.02971686,\n",
              "         0.20156711,  0.18767357,  0.32618198,  0.14089966,  0.3413553 ,\n",
              "         0.09377594,  0.04571338,  0.38244176,  0.37534076,  0.1288902 ,\n",
              "         0.54191643,  0.23356876, -0.03183874,  0.0515998 ,  0.4061883 ,\n",
              "         0.2391588 ,  0.25629008,  0.33206362,  0.10679922,  0.24526921,\n",
              "         0.25528473,  0.43840408,  0.01763002,  0.22721596,  0.40850163,\n",
              "         0.27574393,  0.3454252 ,  0.14020543,  0.2937181 ,  0.2224389 ,\n",
              "         0.29229963,  0.3305247 ,  0.20750065,  0.3206845 ,  0.14854822,\n",
              "         0.39079404,  0.29512984, -0.00185996,  0.15627994,  0.13917819,\n",
              "         0.395656  ,  0.43375516,  0.44525242,  0.3451604 ,  0.32122734,\n",
              "         0.21161066,  0.32085168, -0.15586127,  0.30191624,  0.05006299,\n",
              "         0.12713061,  0.08248886,  0.27600476,  0.32368705,  0.14164549,\n",
              "         0.09403853,  0.19790038, -0.00181236,  0.22041379,  0.26501068,\n",
              "         0.10887089,  0.20971331,  0.27923688,  0.1389623 ,  0.28335503,\n",
              "         0.42341006,  0.2437422 ,  0.19136748,  0.18048795,  0.017383  ],\n",
              "       dtype=float32)>,\n",
              " <tf.Variable 'batch_normalization_8/moving_mean:0' shape=(100,) dtype=float32, numpy=\n",
              " array([0.9921389 , 4.212116  , 1.544128  , 1.1342579 , 2.9107091 ,\n",
              "        2.730789  , 1.0859739 , 1.1527538 , 3.686388  , 1.2098615 ,\n",
              "        0.10515606, 0.94106936, 3.1626027 , 3.01201   , 2.1630323 ,\n",
              "        2.1323214 , 4.287412  , 0.36241245, 0.8708115 , 0.26931012,\n",
              "        2.9812496 , 0.7135706 , 0.48551765, 2.602854  , 1.268985  ,\n",
              "        3.4616888 , 3.0000808 , 0.96011674, 2.4201133 , 0.58691275,\n",
              "        0.5655015 , 0.24677908, 0.5058049 , 0.8839298 , 0.7220392 ,\n",
              "        1.174271  , 0.29876602, 1.4799287 , 1.2946306 , 0.39799553,\n",
              "        2.7969592 , 0.9684745 , 0.43818936, 0.43261147, 0.29434144,\n",
              "        0.49444592, 0.9352611 , 0.21542376, 1.5460659 , 2.2360597 ,\n",
              "        1.9484906 , 3.873673  , 1.5798944 , 0.58732057, 1.0842012 ,\n",
              "        1.7261908 , 1.614913  , 0.6766414 , 0.82673466, 2.295432  ,\n",
              "        2.4919255 , 0.40057737, 1.1834743 , 1.3194103 , 0.16532983,\n",
              "        1.9988528 , 1.2072997 , 2.6123688 , 0.7711317 , 0.6356242 ,\n",
              "        0.4143421 , 0.67121637, 1.4133167 , 2.5042744 , 0.32688117,\n",
              "        2.0397828 , 1.8881348 , 1.2768654 , 0.5433047 , 1.9577681 ,\n",
              "        0.6610659 , 0.5225138 , 0.9374425 , 2.3314114 , 0.36913213,\n",
              "        0.47658092, 1.306586  , 0.6078469 , 0.6004455 , 0.8922991 ,\n",
              "        0.64673877, 1.479504  , 2.9228415 , 0.6923912 , 2.110479  ,\n",
              "        1.8653486 , 0.7948353 , 0.74223095, 1.6857778 , 0.5455438 ],\n",
              "       dtype=float32)>,\n",
              " <tf.Variable 'batch_normalization_8/moving_variance:0' shape=(100,) dtype=float32, numpy=\n",
              " array([13.14977   , 37.14594   , 23.68861   , 12.478916  , 46.13295   ,\n",
              "        50.962765  , 10.881305  ,  8.231412  , 37.950382  , 19.165178  ,\n",
              "         0.95118475,  9.862292  , 45.248604  , 14.985726  , 10.0741625 ,\n",
              "        13.019279  , 39.85078   ,  2.919936  , 14.583154  ,  2.8024998 ,\n",
              "        15.076807  , 10.042781  ,  4.8361244 , 16.194824  , 15.287754  ,\n",
              "        21.920479  , 13.592456  , 14.682018  , 11.288559  ,  5.3589644 ,\n",
              "         7.1434097 ,  2.9638958 ,  5.8237877 , 12.199056  ,  8.510183  ,\n",
              "        11.424678  ,  3.1217563 , 24.371017  , 21.067625  ,  4.117071  ,\n",
              "        45.877857  ,  9.299589  ,  4.5381155 ,  4.5554495 ,  2.6412458 ,\n",
              "         5.524031  ,  9.157331  ,  2.499164  , 18.107117  , 16.865948  ,\n",
              "        32.302475  , 31.583029  , 28.050247  ,  4.52878   , 18.65935   ,\n",
              "         5.5791173 , 26.335434  ,  6.2762923 ,  5.2592044 ,  7.818009  ,\n",
              "        13.73224   ,  2.7739885 , 12.575731  , 24.175198  ,  2.1163754 ,\n",
              "        32.821182  , 15.192111  , 15.592695  ,  6.6978984 , 10.581532  ,\n",
              "         4.1504674 ,  7.3366017 , 20.36678   , 11.105681  ,  3.1648371 ,\n",
              "        32.862     , 30.20699   , 15.823785  ,  4.7599354 , 17.570147  ,\n",
              "         9.04058   ,  5.8287444 , 16.168941  , 34.126247  ,  3.9250093 ,\n",
              "         4.2078924 , 18.389887  ,  6.404328  ,  7.7139    , 10.159727  ,\n",
              "         6.2608986 , 14.518417  , 12.284273  ,  6.8838687 , 28.27633   ,\n",
              "        11.7126875 , 12.894818  , 10.892284  , 17.151634  ,  5.659923  ],\n",
              "       dtype=float32)>,\n",
              " <tf.Variable 'conv2d_10/kernel:0' shape=(3, 3, 100, 50) dtype=float32, numpy=\n",
              " array([[[[ 1.16072258e-03, -9.72726010e-03, -5.91648594e-02, ...,\n",
              "           -1.05108231e-01, -2.09121197e-01, -1.69593114e-02],\n",
              "          [-1.15583753e-02, -1.99879911e-02, -3.64627764e-02, ...,\n",
              "           -9.61617827e-02, -6.47912771e-02,  8.50136951e-02],\n",
              "          [-1.82687733e-02, -8.93792063e-02,  3.86605933e-02, ...,\n",
              "           -1.70473173e-01, -1.39783368e-01,  4.63671051e-03],\n",
              "          ...,\n",
              "          [ 5.11747524e-02,  2.01384217e-01, -9.79842246e-02, ...,\n",
              "           -4.53362428e-03,  1.60988152e-01,  1.37988916e-02],\n",
              "          [-2.00767405e-02,  6.32192791e-02,  1.25400409e-01, ...,\n",
              "            8.96774754e-02, -3.11749373e-02, -3.99948359e-02],\n",
              "          [-2.08591387e-01, -2.04345241e-01,  1.24519460e-01, ...,\n",
              "           -5.61503954e-02, -4.36541205e-03,  1.82702571e-01]],\n",
              " \n",
              "         [[-1.18544698e-02, -1.33149847e-01, -7.46724755e-02, ...,\n",
              "           -6.06381781e-02,  2.93284710e-02,  2.35051326e-02],\n",
              "          [-4.46026865e-03, -8.03985670e-02, -2.82371081e-02, ...,\n",
              "           -6.20927289e-02, -1.36865631e-01, -1.10789165e-01],\n",
              "          [ 3.55096608e-02, -3.04914117e-02, -6.33687899e-03, ...,\n",
              "           -1.94076717e-01, -5.46511449e-02, -1.25722289e-01],\n",
              "          ...,\n",
              "          [-1.95774734e-01,  2.35361718e-02, -5.73103502e-02, ...,\n",
              "           -4.07843962e-02,  1.87181622e-01,  6.40133992e-02],\n",
              "          [ 7.93450251e-02, -1.05667263e-02, -4.31337208e-02, ...,\n",
              "           -4.21851687e-03,  6.54285774e-02,  3.35550867e-02],\n",
              "          [-9.64189172e-02, -1.48401838e-02, -1.37549534e-01, ...,\n",
              "            3.30075547e-02,  8.97729583e-03, -5.89095391e-02]],\n",
              " \n",
              "         [[-2.64436483e-01, -6.49673492e-02, -3.06409737e-03, ...,\n",
              "           -1.99963033e-01,  1.19552553e-01, -1.20350227e-01],\n",
              "          [ 2.18309145e-02,  3.79707292e-02, -2.56014019e-01, ...,\n",
              "            1.16515933e-02,  4.37922254e-02,  1.11442298e-01],\n",
              "          [-1.22674527e-02,  1.49587886e-02, -1.93409100e-01, ...,\n",
              "           -1.70139149e-01,  1.01138659e-01, -6.57462925e-02],\n",
              "          ...,\n",
              "          [-3.70647833e-02, -3.36562358e-02,  1.79919958e-01, ...,\n",
              "           -9.21130255e-02, -6.87322468e-02, -1.26148304e-02],\n",
              "          [-7.85634667e-03, -1.33715212e-01,  1.44349961e-02, ...,\n",
              "            6.59548789e-02,  2.84170322e-02,  1.35981441e-01],\n",
              "          [-7.45843574e-02,  7.05275163e-02, -1.02765188e-01, ...,\n",
              "            5.55321109e-03, -6.86573833e-02,  8.17989707e-02]]],\n",
              " \n",
              " \n",
              "        [[[-7.97340926e-03, -3.74487974e-02, -1.17124608e-02, ...,\n",
              "            1.37175657e-02, -1.06515639e-01,  8.10430050e-02],\n",
              "          [ 6.87551722e-02,  8.08192715e-02, -4.83217873e-02, ...,\n",
              "           -1.32690921e-01, -7.68630579e-02,  3.80167402e-02],\n",
              "          [-1.54901445e-02, -5.15096262e-03,  6.27598763e-02, ...,\n",
              "            2.66211070e-02, -1.46017432e-01,  1.68568473e-02],\n",
              "          ...,\n",
              "          [-1.39595926e-01,  6.53502643e-02, -6.99862242e-02, ...,\n",
              "            3.64525169e-02,  7.30311573e-02,  5.11106662e-02],\n",
              "          [ 1.02436043e-01,  1.69518385e-02,  5.26909381e-02, ...,\n",
              "            7.54887760e-02, -4.57859188e-02, -5.77981472e-02],\n",
              "          [ 1.07568428e-01,  6.27546832e-02, -1.12029389e-01, ...,\n",
              "           -1.72582865e-01,  2.90882122e-02, -1.61216012e-05]],\n",
              " \n",
              "         [[-2.75475793e-02, -2.05057517e-01,  2.66852509e-02, ...,\n",
              "            4.90956977e-02, -4.29611700e-03,  5.66666806e-03],\n",
              "          [-3.78449671e-02,  1.91440314e-01, -5.53581379e-02, ...,\n",
              "           -3.64905559e-02, -8.65596980e-02, -3.43426727e-02],\n",
              "          [-3.64744887e-02, -4.04130965e-02,  6.81047216e-02, ...,\n",
              "            1.88948791e-02, -1.02385059e-01,  3.99998343e-03],\n",
              "          ...,\n",
              "          [-1.50872126e-01, -8.79487470e-02, -8.24778993e-03, ...,\n",
              "           -6.09667376e-02,  6.38079643e-02, -1.09966621e-01],\n",
              "          [ 1.17012568e-01, -3.88196446e-02,  3.15352902e-02, ...,\n",
              "            1.05606861e-01,  2.10971516e-02, -2.65588518e-02],\n",
              "          [ 4.66991737e-02,  1.21826388e-01,  1.19047221e-02, ...,\n",
              "           -2.42563933e-02,  1.37803261e-03, -6.00699745e-02]],\n",
              " \n",
              "         [[-7.76060820e-02, -6.64142147e-02,  4.94062379e-02, ...,\n",
              "           -1.04635529e-01,  8.53895918e-02, -2.07160369e-01],\n",
              "          [-5.76515310e-02,  1.53783306e-01, -1.13186210e-01, ...,\n",
              "           -1.53222561e-01, -8.77030641e-02,  1.31834298e-01],\n",
              "          [-7.74598196e-02,  3.24119441e-02, -3.48987915e-02, ...,\n",
              "           -1.53593555e-01,  5.32315187e-02, -7.34871477e-02],\n",
              "          ...,\n",
              "          [-4.08617482e-02, -6.56077862e-02,  2.16963932e-01, ...,\n",
              "           -1.80101488e-02,  4.53153774e-02, -5.71203679e-02],\n",
              "          [-1.62781239e-03,  2.43903771e-02, -6.84664994e-02, ...,\n",
              "            3.48539315e-02,  1.63618416e-01,  8.31682160e-02],\n",
              "          [ 7.40539730e-02,  7.20221773e-02, -1.14086129e-01, ...,\n",
              "           -9.36343968e-02, -3.32450457e-02, -1.93145908e-02]]],\n",
              " \n",
              " \n",
              "        [[[ 5.61853386e-02, -1.21516876e-01,  1.02698922e-01, ...,\n",
              "            5.97209558e-02, -2.10305993e-02,  1.76562055e-03],\n",
              "          [ 6.53205663e-02, -8.92352462e-02, -1.67599484e-01, ...,\n",
              "            8.19116980e-02, -5.14671654e-02,  1.90924019e-01],\n",
              "          [-6.13280991e-03,  4.40714620e-02,  1.74092576e-01, ...,\n",
              "            6.16218969e-02, -1.41277209e-01, -2.41733324e-02],\n",
              "          ...,\n",
              "          [-1.79736927e-01, -1.27965808e-02,  6.49928898e-02, ...,\n",
              "           -1.49428388e-02, -2.97175013e-02,  2.23510534e-01],\n",
              "          [ 1.53714307e-02, -9.91197899e-02, -5.04477061e-02, ...,\n",
              "            6.60882369e-02,  6.66704178e-02,  1.51534542e-01],\n",
              "          [ 5.23923896e-03,  1.52653813e-01, -6.41418993e-02, ...,\n",
              "            3.10721193e-02, -5.23603335e-03,  1.82487592e-01]],\n",
              " \n",
              "         [[-1.27755761e-01, -4.37786095e-02,  1.12275213e-01, ...,\n",
              "            1.62347034e-02,  8.01481381e-02, -7.96930492e-02],\n",
              "          [ 1.35232449e-01,  8.02087337e-02,  4.62281108e-02, ...,\n",
              "           -6.93934932e-02, -1.89103484e-01,  1.29927993e-01],\n",
              "          [-2.84644328e-02, -1.41505063e-01,  4.66227345e-02, ...,\n",
              "           -4.12729643e-02,  1.04527049e-01, -1.15683056e-01],\n",
              "          ...,\n",
              "          [-1.75341353e-01,  5.73764853e-02,  5.21718077e-02, ...,\n",
              "           -7.64619112e-02,  1.39141634e-01, -1.22279465e-01],\n",
              "          [-1.21030524e-01, -9.02836025e-02, -5.52690439e-02, ...,\n",
              "            7.23767355e-02, -2.05277670e-02,  1.00483326e-03],\n",
              "          [-1.58633720e-02,  1.71187341e-01,  7.69705996e-02, ...,\n",
              "           -2.58172839e-03, -1.14557212e-02,  2.83415675e-01]],\n",
              " \n",
              "         [[-2.07412660e-01, -2.00177819e-01,  4.73455191e-02, ...,\n",
              "           -1.03790931e-01,  1.06156617e-01,  1.78496330e-03],\n",
              "          [ 8.81750286e-02,  5.42092659e-02, -1.47728221e-02, ...,\n",
              "           -1.64683178e-01, -7.34816790e-02,  5.92236668e-02],\n",
              "          [-9.61833298e-02, -1.26512602e-01,  5.60114942e-02, ...,\n",
              "           -7.06319064e-02,  5.21000102e-02, -1.69754550e-01],\n",
              "          ...,\n",
              "          [ 3.55635211e-02,  6.01989962e-02,  1.05793670e-01, ...,\n",
              "           -1.05104502e-02,  1.15175530e-01,  6.00337684e-02],\n",
              "          [-1.46554813e-01, -3.05508636e-02, -3.25791650e-02, ...,\n",
              "            8.34762752e-02,  1.34369999e-01,  6.14733552e-04],\n",
              "          [-5.05786687e-02,  7.92345703e-02,  4.85357679e-02, ...,\n",
              "            1.04688490e-02, -6.10328689e-02,  1.35866433e-01]]]],\n",
              "       dtype=float32)>,\n",
              " <tf.Variable 'conv2d_10/bias:0' shape=(50,) dtype=float32, numpy=\n",
              " array([-0.12154658, -0.17790961, -0.06117375, -0.10028178, -0.17274894,\n",
              "        -0.1946933 , -0.05482539,  0.03578905, -0.17363857, -0.03526817,\n",
              "        -0.13376072, -0.16812304, -0.10096157,  0.0300348 , -0.20907871,\n",
              "        -0.13259438, -0.2173009 , -0.30002928, -0.12498473, -0.24210595,\n",
              "        -0.11366975, -0.09670776, -0.24342965, -0.08233095, -0.14879763,\n",
              "        -0.17246504, -0.12164602, -0.15713148, -0.14115521, -0.19444948,\n",
              "        -0.14424823, -0.00054588, -0.03948689,  0.0437905 , -0.20842366,\n",
              "        -0.09018582, -0.01520439, -0.10833784, -0.16139057,  0.02254404,\n",
              "        -0.11545284, -0.32002512, -0.14816566, -0.16091764, -0.19470893,\n",
              "        -0.20383967, -0.17385207, -0.09089733, -0.07592472,  0.07601085],\n",
              "       dtype=float32)>,\n",
              " <tf.Variable 'batch_normalization_9/gamma:0' shape=(50,) dtype=float32, numpy=\n",
              " array([1.0183556 , 0.9188352 , 0.95141864, 0.7944161 , 0.7806613 ,\n",
              "        1.0625968 , 0.52895164, 0.678294  , 0.9859082 , 0.78433025,\n",
              "        0.9237725 , 1.0902725 , 0.60864884, 0.7033014 , 1.0108023 ,\n",
              "        0.9095074 , 0.9314144 , 1.0733378 , 0.87938887, 0.81485295,\n",
              "        0.9606318 , 1.0499511 , 1.0700554 , 0.95527285, 0.9047277 ,\n",
              "        0.9015443 , 0.80751866, 0.93124866, 0.9062465 , 0.8566418 ,\n",
              "        1.0089203 , 0.32193458, 0.76596   , 0.6717952 , 0.8611766 ,\n",
              "        0.7992832 , 0.67888755, 0.9352297 , 0.8830393 , 0.75073683,\n",
              "        0.939585  , 0.83756435, 0.865068  , 1.0097963 , 1.0907091 ,\n",
              "        1.0093654 , 0.94683415, 0.7590039 , 0.8878656 , 0.631749  ],\n",
              "       dtype=float32)>,\n",
              " <tf.Variable 'batch_normalization_9/beta:0' shape=(50,) dtype=float32, numpy=\n",
              " array([ 0.0094015 , -0.00723659, -0.05726048, -0.02952671,  0.03324812,\n",
              "        -0.02696382, -0.13215156, -0.15389906, -0.0436422 , -0.07598908,\n",
              "        -0.04571763,  0.00146345, -0.03638991, -0.05133928, -0.02057369,\n",
              "         0.00147154,  0.01282183,  0.02512218, -0.01368965,  0.02058717,\n",
              "         0.00336273, -0.07310361,  0.01554632, -0.08042694, -0.09313912,\n",
              "        -0.07668357, -0.01118306,  0.00023729, -0.02304931, -0.07041128,\n",
              "         0.0293097 , -0.09709132, -0.08839616, -0.14239131, -0.07817533,\n",
              "        -0.08355286, -0.19656561, -0.07476294, -0.03723091, -0.1573286 ,\n",
              "        -0.04595817, -0.04037998, -0.1507597 , -0.03014902, -0.05747773,\n",
              "         0.05701159, -0.03721108,  0.02611582,  0.01751277, -0.13201265],\n",
              "       dtype=float32)>,\n",
              " <tf.Variable 'batch_normalization_9/moving_mean:0' shape=(50,) dtype=float32, numpy=\n",
              " array([ 1.3599001 ,  1.8635936 ,  1.8167294 ,  1.5378826 ,  0.7149582 ,\n",
              "         0.8768868 , 11.36081   ,  7.4238954 ,  0.89353055,  1.0898972 ,\n",
              "         0.6265319 ,  0.8830057 ,  0.16387436,  6.943055  ,  0.5216981 ,\n",
              "         0.36519057,  0.5625502 ,  0.10242251,  0.97957605,  0.79972225,\n",
              "         0.9564009 ,  2.457888  ,  0.23797661,  2.5475748 ,  1.3745817 ,\n",
              "         0.71981794,  2.8348572 ,  0.6235858 ,  1.7838831 ,  2.0572503 ,\n",
              "         1.6346315 , 10.5145445 ,  2.298573  ,  4.686192  ,  2.2041101 ,\n",
              "         1.435643  ,  5.935264  ,  1.6649684 ,  0.9690293 ,  6.3319855 ,\n",
              "         0.7381363 ,  0.15783793,  1.3862565 ,  0.88107646,  0.6287655 ,\n",
              "         0.8280219 ,  0.71255565,  2.496032  ,  0.7331871 , 10.581121  ],\n",
              "       dtype=float32)>,\n",
              " <tf.Variable 'batch_normalization_9/moving_variance:0' shape=(50,) dtype=float32, numpy=\n",
              " array([ 25.741905 ,  43.62046  ,  27.70762  ,  21.363148 ,  11.0415325,\n",
              "         18.163223 , 139.89551  ,  89.14334  ,  17.958925 ,  19.326847 ,\n",
              "          7.42327  ,  14.408803 ,   1.2703271, 148.93976  ,   7.4430356,\n",
              "          3.2206666,   8.330605 ,   1.5850658,  13.034189 ,  11.474166 ,\n",
              "         11.788498 ,  27.593128 ,   3.0852685,  46.225323 ,  21.753942 ,\n",
              "         11.061752 ,  60.295097 ,  10.96176  ,  40.822914 ,  30.299265 ,\n",
              "         33.79562  , 152.27814  ,  29.869604 ,  71.015396 ,  40.58247  ,\n",
              "         20.850573 ,  56.17138  ,  33.13894  ,  15.396488 , 106.65754  ,\n",
              "          8.778364 ,   2.3576758,  16.042847 ,  12.202412 ,   7.366733 ,\n",
              "         11.248413 ,   9.001758 ,  42.103954 ,  10.767269 , 154.1667   ],\n",
              "       dtype=float32)>,\n",
              " <tf.Variable 'dense_4/kernel:0' shape=(1250, 128) dtype=float32, numpy=\n",
              " array([[-0.05400526, -0.09606289, -0.00320812, ..., -0.13418712,\n",
              "         -0.1123724 ,  0.03470419],\n",
              "        [-0.08442696, -0.08910985,  0.01318703, ...,  0.04168754,\n",
              "         -0.08479667, -0.04257992],\n",
              "        [ 0.02163128, -0.03429726, -0.02230633, ...,  0.00499309,\n",
              "          0.14090595,  0.03175445],\n",
              "        ...,\n",
              "        [ 0.04528544, -0.01075498,  0.12050296, ...,  0.05839022,\n",
              "          0.0686373 , -0.02695731],\n",
              "        [ 0.03700868,  0.09446611, -0.0588503 , ...,  0.04958528,\n",
              "          0.08143764, -0.00214119],\n",
              "        [ 0.04385745,  0.05923054,  0.04573242, ...,  0.01677932,\n",
              "         -0.01321935,  0.08963826]], dtype=float32)>,\n",
              " <tf.Variable 'dense_4/bias:0' shape=(128,) dtype=float32, numpy=\n",
              " array([-0.02125663, -0.02732622, -0.06920228, -0.0361485 , -0.12550177,\n",
              "        -0.04664417, -0.07898202, -0.08921688, -0.02600332, -0.0449493 ,\n",
              "         0.02708682,  0.01106203, -0.04129001, -0.0488746 , -0.02230459,\n",
              "        -0.07252605, -0.01564404, -0.11518575, -0.00247225, -0.06964944,\n",
              "        -0.06173916, -0.06586359, -0.05826564, -0.01369703, -0.01386853,\n",
              "        -0.08552741, -0.02708269, -0.06109539, -0.05369145,  0.01974408,\n",
              "        -0.04650771, -0.05832162, -0.00744973, -0.00236709, -0.02027261,\n",
              "        -0.03909666, -0.05783309, -0.08166194, -0.00766694,  0.03455294,\n",
              "        -0.03304721,  0.02563887, -0.04462586, -0.08573089, -0.07328193,\n",
              "        -0.04558006, -0.08570411,  0.05700486, -0.03376814, -0.05656131,\n",
              "        -0.0863597 , -0.0950145 , -0.01888541, -0.02785313, -0.08241008,\n",
              "        -0.10637239, -0.04333966, -0.08100791, -0.05537387, -0.04270506,\n",
              "        -0.03774444, -0.04653587, -0.05599315, -0.08215052, -0.00814685,\n",
              "        -0.1172393 , -0.0822834 , -0.0403212 , -0.0411382 , -0.03776251,\n",
              "        -0.06661363,  0.01274875, -0.01874205, -0.01996321, -0.03920426,\n",
              "         0.03490598, -0.05768809, -0.04050302, -0.12132259, -0.04602402,\n",
              "        -0.03815912, -0.07279975,  0.01169992, -0.02706551, -0.05970385,\n",
              "        -0.07564418, -0.01588093, -0.04028501, -0.13693039, -0.05321615,\n",
              "        -0.1016302 , -0.02853421, -0.03010919, -0.02520948, -0.04644072,\n",
              "        -0.07360877, -0.03780325, -0.06414843, -0.00450264, -0.03307358,\n",
              "        -0.12277874, -0.11915946, -0.04826535, -0.10068814, -0.05933223,\n",
              "        -0.09459311, -0.08288804, -0.03759634, -0.100431  , -0.03980723,\n",
              "        -0.04034574, -0.03024368, -0.04646381, -0.08159786, -0.03786873,\n",
              "        -0.07593523, -0.04292694, -0.07341482, -0.05612497, -0.0867117 ,\n",
              "        -0.08619694,  0.00696462, -0.07837957, -0.09301459, -0.07733841,\n",
              "        -0.03788169, -0.05454386, -0.06092577], dtype=float32)>,\n",
              " <tf.Variable 'dense_5/kernel:0' shape=(128, 50) dtype=float32, numpy=\n",
              " array([[-0.10445813,  0.02940651, -0.11391891, ...,  0.05721587,\n",
              "         -0.04647115, -0.10856482],\n",
              "        [ 0.01210731,  0.10681009,  0.22036241, ...,  0.00065274,\n",
              "         -0.15479778, -0.02621362],\n",
              "        [ 0.09043643, -0.08970586, -0.06173875, ..., -0.0554113 ,\n",
              "          0.21855046, -0.07803648],\n",
              "        ...,\n",
              "        [-0.12809882, -0.03949396, -0.002542  , ...,  0.06351488,\n",
              "          0.04379335,  0.08649098],\n",
              "        [ 0.00915452,  0.08212262, -0.09608514, ..., -0.11155142,\n",
              "         -0.16890976, -0.12466461],\n",
              "        [-0.01513754,  0.16991316,  0.0634775 , ..., -0.04464354,\n",
              "         -0.00121544,  0.12203368]], dtype=float32)>,\n",
              " <tf.Variable 'dense_5/bias:0' shape=(50,) dtype=float32, numpy=\n",
              " array([-0.01076612, -0.00399424, -0.03423808, -0.05847198,  0.08002543,\n",
              "        -0.00269608, -0.01727089, -0.07925534, -0.05691433,  0.01607145,\n",
              "        -0.13300979,  0.02195577,  0.10307141, -0.01155621, -0.03219603,\n",
              "        -0.04347045,  0.09958116, -0.02943366, -0.05485542, -0.04959784,\n",
              "         0.01322639,  0.03661354,  0.06544105,  0.0863677 , -0.01978395,\n",
              "         0.04981297,  0.03826384, -0.0186124 ,  0.11548762,  0.08321904,\n",
              "        -0.07530097, -0.01083413,  0.1790331 , -0.09457418, -0.04187315,\n",
              "         0.00850504, -0.045151  , -0.00615872,  0.00317334,  0.05333633,\n",
              "         0.01855328, -0.05789372,  0.03752782, -0.03691534, -0.03853381,\n",
              "        -0.02358268, -0.0466801 ,  0.07772703, -0.10283097,  0.15705775],\n",
              "       dtype=float32)>,\n",
              " <tf.Variable 'dense_6/kernel:0' shape=(50, 20) dtype=float32, numpy=\n",
              " array([[-2.43825183e-04,  6.49449751e-02,  2.33665667e-03,\n",
              "         -2.30284721e-01,  2.47325376e-02, -2.26215646e-01,\n",
              "          2.39048958e-01,  5.72904460e-02,  5.20546846e-02,\n",
              "          1.38704509e-01, -2.95433670e-01,  1.27584696e-01,\n",
              "         -3.23718786e-01,  2.36468092e-01, -3.14810365e-01,\n",
              "         -2.38854848e-02,  1.04630210e-01,  3.26163098e-02,\n",
              "          4.31466326e-02, -4.61992361e-02],\n",
              "        [-1.92605674e-01,  1.80504739e-01,  2.57524461e-01,\n",
              "          1.48439199e-01, -5.12570105e-02, -1.99327216e-01,\n",
              "         -3.38735938e-01, -1.52722061e-01, -3.88167948e-02,\n",
              "         -2.46562675e-01,  1.11726366e-01, -1.79832548e-01,\n",
              "          2.01312348e-01,  1.37520239e-01, -1.16700381e-01,\n",
              "         -1.96238995e-01, -3.12525660e-01, -1.19482510e-01,\n",
              "          2.46821180e-01,  3.10556144e-02],\n",
              "        [-1.46077052e-01, -1.29134789e-01, -1.07391596e-01,\n",
              "          2.33961698e-02,  2.48093028e-02, -2.47867450e-01,\n",
              "         -3.01969677e-01, -2.85648346e-01, -1.71407491e-01,\n",
              "         -1.51601002e-01, -2.64069706e-01, -1.43126562e-01,\n",
              "         -1.40253663e-01,  5.94594050e-03, -9.78696495e-02,\n",
              "          5.89965433e-02,  1.24005534e-01,  3.73356380e-02,\n",
              "          3.33881319e-01, -2.89412290e-01],\n",
              "        [ 1.72006547e-01, -5.65221831e-02,  3.04679632e-01,\n",
              "         -2.67736819e-02, -2.56187558e-01, -2.05023084e-02,\n",
              "          9.25122723e-02,  9.35365483e-02, -3.39402594e-02,\n",
              "         -2.96707779e-01,  2.91180104e-01, -1.61882058e-01,\n",
              "         -6.95056468e-02, -6.39948621e-02, -8.49062204e-02,\n",
              "          2.03231752e-01, -1.66671678e-01,  8.87077227e-02,\n",
              "         -6.83263540e-02, -3.13178897e-01],\n",
              "        [-8.47913325e-02,  1.57698959e-01, -1.82834581e-01,\n",
              "          2.54526973e-01,  9.56543759e-02, -6.11351952e-02,\n",
              "         -1.49586737e-01,  1.71848819e-01,  1.65887371e-01,\n",
              "          2.05399409e-01, -2.55690515e-01, -1.73585951e-01,\n",
              "          4.09925468e-02,  1.15768462e-02, -7.29317516e-02,\n",
              "          3.28728557e-03,  3.01921275e-03,  2.01359153e-01,\n",
              "          1.92107245e-01, -1.87710226e-01],\n",
              "        [-1.46650940e-01, -1.17918976e-01,  1.62490815e-01,\n",
              "          2.59279519e-01, -5.87219819e-02, -1.69630423e-01,\n",
              "         -3.67764384e-01, -2.47374959e-02,  3.14498320e-02,\n",
              "         -7.43134022e-02, -3.35601121e-02,  1.43918470e-01,\n",
              "          2.72456288e-01,  1.71300679e-01,  2.35412285e-01,\n",
              "          4.69055697e-02,  3.01195771e-01,  1.25001576e-02,\n",
              "         -1.05258971e-01, -2.37376601e-01],\n",
              "        [-1.93585783e-01, -2.25795478e-01, -9.41585228e-02,\n",
              "          6.82862476e-02,  1.58915684e-01, -2.94202238e-01,\n",
              "          1.10339560e-01,  1.98590085e-01, -2.04159364e-01,\n",
              "          2.20352918e-01, -1.67072073e-01, -3.06055471e-02,\n",
              "         -4.38957028e-02,  4.48078401e-02, -3.20362180e-01,\n",
              "          2.29217783e-01, -6.40358701e-02,  1.10353947e-01,\n",
              "          1.97655886e-01,  3.31077445e-03],\n",
              "        [-3.91654044e-01,  7.26679116e-02,  3.70923057e-02,\n",
              "         -2.44293272e-01, -5.20024337e-02,  1.59000590e-01,\n",
              "          8.23981687e-02,  2.08206803e-01, -5.65120801e-02,\n",
              "          2.54494250e-01, -4.52928953e-02, -1.01424620e-01,\n",
              "          1.98798999e-01, -1.08547911e-01,  2.48053774e-01,\n",
              "          7.67570660e-02,  2.44515374e-01,  2.60702580e-01,\n",
              "         -1.66405559e-01,  1.92212760e-02],\n",
              "        [-2.39341296e-02,  1.63809702e-01, -2.54324656e-02,\n",
              "          7.91455060e-02,  4.97524925e-02, -1.21498063e-01,\n",
              "         -2.38757908e-01, -4.76438701e-02, -2.40837529e-01,\n",
              "          3.05763245e-01, -2.48250365e-01, -2.17798263e-01,\n",
              "         -9.27748159e-02,  1.00203782e-01,  2.25521073e-01,\n",
              "          2.52290398e-01, -2.47962624e-01, -1.08403280e-01,\n",
              "         -1.98291138e-01, -1.91832259e-01],\n",
              "        [-1.00415654e-01,  2.16830626e-01,  1.12299286e-01,\n",
              "          1.19643562e-01,  1.06696256e-01, -2.73597509e-01,\n",
              "          2.06042305e-01, -1.29012138e-01,  1.47966295e-01,\n",
              "         -4.39736955e-02, -4.59774807e-02, -1.93383098e-01,\n",
              "         -3.23640376e-01, -3.39959450e-02, -1.56646669e-01,\n",
              "         -1.16784431e-01, -1.33386254e-01,  7.58875627e-03,\n",
              "          3.05992097e-01, -3.32153499e-01],\n",
              "        [-3.06863561e-02,  7.88969770e-02,  1.73522547e-01,\n",
              "          2.33054310e-01, -2.42626846e-01, -1.96835604e-02,\n",
              "          1.88771605e-01, -3.01927984e-01,  8.57592374e-02,\n",
              "          2.23961800e-01,  8.50978196e-02, -5.22101335e-02,\n",
              "         -1.77609354e-01, -2.02761982e-02, -1.71929330e-01,\n",
              "         -2.23866671e-01, -1.30983487e-01,  1.72885954e-01,\n",
              "         -8.72843862e-02,  1.34119987e-01],\n",
              "        [ 5.97579479e-02,  1.17359035e-01, -2.42620800e-02,\n",
              "         -9.47376564e-02, -4.80852947e-02, -7.36462027e-02,\n",
              "         -1.44962773e-01, -5.66970222e-02, -4.57573608e-02,\n",
              "          1.28121778e-01, -1.76878035e-01, -1.50545046e-01,\n",
              "         -1.15843117e-01,  1.96203947e-01,  2.04066679e-01,\n",
              "         -2.80016750e-01, -2.17873305e-01, -2.25839503e-02,\n",
              "          7.99611658e-02,  1.20747298e-01],\n",
              "        [ 2.24677652e-01,  3.14981341e-01, -1.94783092e-01,\n",
              "          1.30939648e-01,  1.22464851e-01, -1.51738718e-01,\n",
              "         -1.22818761e-01, -7.00004473e-02,  1.57770097e-01,\n",
              "         -4.18714464e-01,  1.55641913e-01,  1.99966565e-01,\n",
              "          1.03941020e-02, -1.45704716e-01,  3.93932611e-02,\n",
              "         -9.37366337e-02, -1.44110486e-01,  7.05242157e-02,\n",
              "          7.36354813e-02,  2.26946548e-01],\n",
              "        [-1.07747793e-01,  9.82686728e-02, -1.01425163e-01,\n",
              "          1.67394668e-01, -1.03319116e-01,  1.82386532e-01,\n",
              "          8.00101608e-02,  1.12037852e-01, -2.03882575e-01,\n",
              "         -2.95836419e-01,  1.94801316e-01, -1.43786386e-01,\n",
              "          2.81273812e-01, -1.69777378e-01,  1.00922711e-01,\n",
              "         -4.38683517e-02, -2.97145814e-01, -1.82157323e-01,\n",
              "          2.35916734e-01,  1.39130086e-01],\n",
              "        [-2.03622088e-01, -9.67519730e-02, -8.17367993e-03,\n",
              "         -1.43826604e-01, -4.15859967e-02, -2.18715191e-01,\n",
              "         -3.21839690e-01,  1.75159156e-01, -1.90764278e-01,\n",
              "          1.12967044e-01, -1.40420809e-01, -5.56527823e-02,\n",
              "          2.32092053e-01,  9.69300121e-02, -5.76085076e-02,\n",
              "         -2.05614552e-01, -2.85808206e-01, -1.54863745e-01,\n",
              "          2.39577726e-01,  3.80216211e-01],\n",
              "        [ 4.67146263e-02, -1.18792757e-01,  1.27771035e-01,\n",
              "          2.80456226e-02, -6.51179859e-03, -1.63854897e-01,\n",
              "          4.68511358e-02, -1.37441352e-01, -2.12738782e-01,\n",
              "         -4.62240353e-02, -3.72610614e-02,  8.64209309e-02,\n",
              "          1.12191476e-01,  1.28980532e-01,  3.06746066e-01,\n",
              "          1.77376106e-01,  7.95298517e-02, -1.98900461e-01,\n",
              "         -5.05431071e-02, -3.21543157e-01],\n",
              "        [-3.02769154e-01,  5.79040498e-02, -8.72572362e-02,\n",
              "          8.93605947e-02,  1.02152310e-01,  2.12020338e-01,\n",
              "         -1.23139530e-01,  1.78639412e-01,  1.65979326e-01,\n",
              "         -2.13310421e-01, -1.37247294e-01, -4.76859957e-02,\n",
              "         -1.01184994e-01, -2.50003099e-01,  2.78884917e-01,\n",
              "          8.63667130e-02, -8.94569755e-02, -1.69669643e-01,\n",
              "          3.90686691e-01,  1.05956733e-01],\n",
              "        [ 7.53537565e-02, -2.00590223e-01,  2.11990923e-01,\n",
              "         -4.14891317e-02,  3.71712260e-02, -1.83795244e-01,\n",
              "         -5.72601855e-02, -6.06144872e-03,  6.11966513e-02,\n",
              "         -1.84954777e-01,  1.42237991e-01, -1.40527993e-01,\n",
              "          1.92452952e-01, -3.00276298e-02, -4.75277342e-02,\n",
              "          2.65882879e-01,  1.23829715e-01, -9.17072371e-02,\n",
              "         -2.60622323e-01, -2.01305181e-01],\n",
              "        [-5.63707482e-03,  3.10743451e-02, -4.26746085e-02,\n",
              "         -1.54962435e-01,  9.48232040e-02,  5.21080680e-02,\n",
              "         -3.01630020e-01,  1.30615875e-01, -3.33596691e-02,\n",
              "          2.66563818e-02,  1.39834836e-01,  1.01038136e-01,\n",
              "         -1.64308786e-01, -3.93819243e-01, -9.15835649e-02,\n",
              "         -2.52554953e-01,  1.28270267e-02,  2.14111619e-02,\n",
              "          1.61455870e-01,  3.76796335e-01],\n",
              "        [-2.28172809e-01, -1.20490693e-01, -1.56897247e-01,\n",
              "          1.38763353e-01, -1.23620899e-02,  2.06841622e-02,\n",
              "         -2.13757172e-01, -2.23035797e-01, -9.05755088e-02,\n",
              "          2.09566168e-02, -4.17273603e-02, -3.13160196e-02,\n",
              "          2.57967174e-01, -1.24141172e-01, -8.08556005e-02,\n",
              "          1.54269040e-01, -3.32416892e-01,  8.47149342e-02,\n",
              "         -5.47041856e-02, -9.21788365e-02],\n",
              "        [ 2.50705510e-01, -1.09663028e-02,  1.46274298e-01,\n",
              "          9.25390646e-02, -5.79759255e-02, -1.12586215e-01,\n",
              "         -1.21899940e-01, -1.75333887e-01,  3.77362669e-02,\n",
              "         -7.81263039e-02,  2.71105349e-01, -1.77450955e-01,\n",
              "          2.47509271e-01,  1.91231928e-04,  8.55675563e-02,\n",
              "         -1.38217362e-03, -2.12007150e-01, -2.24229097e-01,\n",
              "          1.45678930e-02,  7.96067044e-02],\n",
              "        [-9.61039811e-02,  1.28012657e-01,  8.87859985e-02,\n",
              "          6.10034429e-02,  1.57805264e-01,  2.31337935e-01,\n",
              "          1.28105775e-01, -5.71398996e-03,  1.86210454e-01,\n",
              "          3.02147686e-01,  1.91976298e-02,  1.94338247e-01,\n",
              "          6.96244240e-02, -2.31529027e-01,  1.44767448e-01,\n",
              "         -1.97825491e-01, -2.15747923e-01,  2.88201749e-01,\n",
              "          4.01104130e-02,  1.28812611e-01],\n",
              "        [ 1.36168316e-01,  2.28073403e-01, -2.36416534e-01,\n",
              "          7.28263631e-02,  2.55389422e-01, -1.04537442e-01,\n",
              "         -3.07375491e-01, -6.53043985e-02, -1.98137358e-01,\n",
              "         -1.16077498e-01, -6.07900061e-02, -2.06113324e-01,\n",
              "         -4.01482545e-02, -4.10823291e-03,  2.06479236e-01,\n",
              "         -1.38509840e-01, -3.38920683e-01,  3.03790629e-01,\n",
              "          2.11700112e-01,  2.92305917e-01],\n",
              "        [-2.97211766e-01,  3.94635469e-01, -8.95145014e-02,\n",
              "         -1.06945522e-01, -2.33898640e-01, -3.13786626e-01,\n",
              "         -2.13073149e-01,  3.46626751e-02,  1.66383222e-01,\n",
              "          1.78549305e-01, -1.46407718e-02,  1.49138778e-01,\n",
              "         -3.87846738e-01,  1.10372730e-01, -1.30562246e-01,\n",
              "         -1.21606663e-01, -1.93761915e-01,  8.01882446e-02,\n",
              "          9.93883759e-02, -6.11931235e-02],\n",
              "        [-1.30841047e-01, -6.66716248e-02, -2.92583257e-01,\n",
              "          2.35558420e-01,  2.71674618e-02, -6.40237406e-02,\n",
              "          1.04134507e-01, -2.49404281e-01, -2.85068117e-02,\n",
              "         -1.13824271e-01,  1.64037000e-03,  7.33230859e-02,\n",
              "          1.84125498e-01,  1.26838386e-02, -1.37775587e-02,\n",
              "         -5.92155345e-02,  3.75082009e-02, -1.29618987e-01,\n",
              "          7.87634775e-02,  3.04416209e-01],\n",
              "        [ 8.13649371e-02, -3.19845676e-02, -2.05709100e-01,\n",
              "         -5.66840470e-02,  2.09058136e-01, -4.65266407e-03,\n",
              "         -1.93254039e-01, -1.88643798e-01, -4.30085137e-02,\n",
              "         -5.32728806e-02, -2.62799524e-02,  9.76907276e-03,\n",
              "          4.67198014e-01,  1.47218660e-01,  1.63433149e-01,\n",
              "         -2.46384859e-01, -1.23058580e-01, -9.41058341e-03,\n",
              "          2.42806852e-01, -1.65288568e-01],\n",
              "        [-1.76640660e-01,  2.50344519e-02, -1.27663106e-01,\n",
              "         -5.20951115e-02,  2.34834366e-02, -1.05984412e-01,\n",
              "         -2.32234821e-01,  5.41894734e-02, -1.57239035e-01,\n",
              "          1.71134725e-01, -4.77478564e-01,  9.58423689e-03,\n",
              "         -3.72425914e-02,  1.75891250e-01, -1.95485190e-01,\n",
              "          1.25020728e-01,  1.27420291e-01,  1.20591179e-01,\n",
              "          2.64376104e-01,  8.28816891e-02],\n",
              "        [ 1.01656526e-01, -8.16953275e-03,  4.88033034e-02,\n",
              "          7.51733556e-02,  1.04393832e-01,  1.14338890e-01,\n",
              "          1.91987127e-01, -1.88406497e-01,  6.27028793e-02,\n",
              "         -1.66396648e-01,  1.73123591e-02, -3.74469370e-01,\n",
              "         -4.33083534e-01,  1.71352103e-01, -2.16658607e-01,\n",
              "         -3.17931250e-02,  1.80074304e-01,  1.49467945e-01,\n",
              "          2.42713559e-02,  1.09585352e-01],\n",
              "        [-7.93536305e-02,  9.90171283e-02,  1.06464535e-01,\n",
              "         -1.76244359e-02,  3.00325751e-01,  9.70172323e-03,\n",
              "          4.01617102e-02, -2.28051126e-01,  1.74175903e-01,\n",
              "          2.17082292e-01, -7.66542880e-03,  1.49046704e-01,\n",
              "         -1.76008075e-01,  1.04103386e-01,  1.93761036e-01,\n",
              "          2.21620917e-01, -4.40514460e-02, -2.84130305e-01,\n",
              "          7.05003440e-02, -1.00818291e-01],\n",
              "        [-1.87713385e-01,  1.63152024e-01, -8.11656415e-02,\n",
              "         -5.21711670e-02,  8.06636065e-02, -1.68735236e-01,\n",
              "         -2.38687828e-01, -1.45144626e-01,  2.77097058e-02,\n",
              "          3.02548647e-01, -1.27359495e-01, -4.89728712e-03,\n",
              "          2.65378684e-01, -2.69116163e-02,  2.87391782e-01,\n",
              "          3.11324596e-01,  3.33974063e-02,  1.25617728e-01,\n",
              "          3.34109254e-02, -3.65022966e-03],\n",
              "        [-3.43194604e-01, -1.72079697e-01, -5.35807982e-02,\n",
              "          2.84647718e-02, -2.59276927e-01,  1.33413136e-01,\n",
              "          7.95238242e-02, -1.50674611e-01, -1.06072061e-01,\n",
              "          2.19089955e-01, -8.97538289e-02, -9.39799398e-02,\n",
              "         -5.77840246e-02, -2.30158672e-01,  2.65290707e-01,\n",
              "         -1.19990647e-01, -2.45575979e-01, -3.28452885e-01,\n",
              "          6.32208139e-02,  3.60379703e-02],\n",
              "        [ 3.85115445e-01,  7.21343681e-02, -1.50630832e-01,\n",
              "          1.70015991e-01, -1.72285125e-01,  7.82527849e-02,\n",
              "         -8.52800757e-02, -8.04963708e-02, -7.57533163e-02,\n",
              "         -2.83615530e-01,  1.28186762e-01,  8.59205723e-02,\n",
              "         -1.18421905e-01, -2.18619984e-02, -2.14030221e-01,\n",
              "         -2.33586088e-01, -9.71008744e-03,  2.19837770e-01,\n",
              "          5.90207465e-02, -2.53120154e-01],\n",
              "        [-6.71898723e-02, -2.57113352e-02,  1.57196775e-01,\n",
              "          1.94426786e-04,  5.83885685e-02, -2.75045276e-01,\n",
              "          2.06856370e-01,  2.78520789e-02,  3.13554078e-01,\n",
              "          2.81989068e-01,  4.00224105e-02,  2.00182378e-01,\n",
              "          2.45417133e-01,  2.02573910e-02,  2.36019850e-01,\n",
              "          5.11926934e-02,  6.53302670e-02, -2.57708073e-01,\n",
              "         -2.76022386e-02, -2.80955900e-02],\n",
              "        [ 2.16252878e-01,  3.44288684e-02,  1.53752193e-01,\n",
              "          1.74749002e-01,  1.49912462e-01, -8.07709917e-02,\n",
              "          3.06508858e-02,  1.46212429e-01,  2.88541503e-02,\n",
              "         -1.39243826e-01,  1.27907977e-01, -9.31255333e-03,\n",
              "         -1.65898968e-02,  2.56645959e-02,  4.82043773e-02,\n",
              "         -1.93200544e-01,  2.42070667e-02,  2.16910869e-01,\n",
              "         -1.14828356e-01,  1.18548281e-01],\n",
              "        [-3.07616860e-01, -1.58719774e-02, -1.40511200e-01,\n",
              "         -1.79898635e-01,  2.49521583e-01,  2.67660260e-01,\n",
              "          5.77501245e-02, -3.54732312e-02,  4.18131193e-03,\n",
              "         -1.64620150e-02,  1.93716541e-01, -2.14210853e-01,\n",
              "          2.07442567e-02, -9.86970812e-02, -4.89828475e-02,\n",
              "          3.93578522e-02, -1.99188948e-01,  2.55097687e-01,\n",
              "         -2.52347976e-01,  1.52949050e-01],\n",
              "        [-5.23780733e-02, -1.03300847e-01,  2.45710928e-02,\n",
              "          6.17276244e-02,  1.18552640e-01,  8.56340453e-02,\n",
              "         -2.88538307e-01, -7.46922493e-02, -6.97796047e-02,\n",
              "         -7.99920410e-02, -1.77763943e-02, -8.05437192e-02,\n",
              "          3.86538692e-02, -1.58007368e-02, -1.26699090e-01,\n",
              "          3.64475042e-01, -2.68354446e-01,  6.02733977e-02,\n",
              "          3.82112302e-02, -9.78711173e-02],\n",
              "        [-8.14079214e-03,  2.76057422e-02, -1.62127957e-01,\n",
              "          1.95029546e-02,  2.41304915e-02, -8.71640518e-02,\n",
              "         -3.25744629e-01, -1.24666572e-01, -1.95810810e-01,\n",
              "          8.68135318e-02,  1.54780269e-01, -3.04493189e-01,\n",
              "         -1.44720703e-01, -1.27205744e-01,  3.59955847e-01,\n",
              "         -8.41753334e-02, -1.16085120e-01,  5.11233546e-02,\n",
              "          1.49041265e-01,  7.98974931e-03],\n",
              "        [-2.36821800e-01, -1.07498646e-01,  1.94671620e-02,\n",
              "         -1.12645142e-01, -5.81432357e-02, -2.39906132e-01,\n",
              "         -1.08777456e-01, -1.07823752e-01, -7.54806399e-02,\n",
              "         -1.84580460e-01,  2.72590250e-01, -1.79394022e-01,\n",
              "          3.79312001e-02,  1.31749243e-01,  2.56225228e-01,\n",
              "          1.91951662e-01,  1.10160783e-01, -1.51258158e-02,\n",
              "         -1.43773720e-01,  1.98333804e-02],\n",
              "        [-6.96711540e-02, -4.75810841e-03, -1.81234838e-03,\n",
              "          2.54479676e-01,  1.14402875e-01, -7.60964379e-02,\n",
              "          1.52147487e-01,  8.89582932e-02,  2.53463924e-01,\n",
              "         -6.69089705e-02, -4.61150557e-02, -7.98263550e-02,\n",
              "         -3.34199011e-01,  6.04430698e-02,  4.29049321e-02,\n",
              "          1.51556537e-01, -8.20454508e-02, -1.24832012e-01,\n",
              "          2.19250157e-01, -1.07643209e-01],\n",
              "        [ 3.82979587e-02, -2.01578699e-02, -1.68262869e-02,\n",
              "          1.54061273e-01,  1.54923037e-01,  3.00957076e-02,\n",
              "         -6.14228509e-02,  1.95147991e-01,  2.27338716e-01,\n",
              "         -7.25698397e-02, -2.18846634e-01, -7.61405528e-02,\n",
              "         -1.02360256e-01, -1.28158465e-01, -6.96492940e-02,\n",
              "          3.04249614e-01,  6.31214008e-02, -5.98807400e-03,\n",
              "          3.32990624e-02,  7.99705088e-02],\n",
              "        [-1.30398542e-01,  5.88352159e-02, -2.29142413e-01,\n",
              "         -1.16550826e-01,  3.12479854e-01,  1.92280620e-01,\n",
              "         -1.90755770e-01, -2.26684138e-01, -6.90577179e-02,\n",
              "          1.10977823e-02,  7.68326744e-02,  2.68601000e-01,\n",
              "          5.95264472e-02,  9.40848291e-02, -3.00047308e-01,\n",
              "         -9.75211151e-03, -4.28888649e-02, -1.61561504e-01,\n",
              "         -1.34549990e-01, -5.40822092e-03],\n",
              "        [-6.13950156e-02, -3.13078873e-02,  8.81406665e-02,\n",
              "          5.49490005e-02,  1.67958051e-01, -2.35811118e-02,\n",
              "          1.23070218e-01, -7.05653429e-02,  1.39997050e-01,\n",
              "          1.29301354e-01,  1.07328473e-02, -2.23911747e-01,\n",
              "         -1.33123010e-01,  2.13369623e-01, -7.57881775e-02,\n",
              "         -8.96173269e-02,  1.40266746e-01,  2.64108777e-02,\n",
              "         -1.55531108e-01, -1.22172244e-01],\n",
              "        [-9.73230451e-02, -2.57512301e-01, -1.53852090e-01,\n",
              "         -8.05515349e-02, -7.99748972e-02, -1.84251368e-01,\n",
              "         -4.85912599e-02, -3.31145555e-01,  3.22170407e-02,\n",
              "         -1.24580907e-02, -6.89499304e-02, -1.42025113e-01,\n",
              "          1.51166260e-01, -6.08533919e-02,  2.46449649e-01,\n",
              "         -1.79184347e-01,  3.18522990e-01,  2.76404828e-01,\n",
              "          2.26060376e-01,  9.90534499e-02],\n",
              "        [ 9.08345059e-02, -8.68795346e-03,  2.03312784e-01,\n",
              "          2.09180266e-01, -1.88485101e-01,  1.67828545e-01,\n",
              "          1.38446823e-01,  2.84702957e-01, -3.56996596e-01,\n",
              "          1.07762977e-01,  4.53246161e-02,  2.05960765e-01,\n",
              "         -6.70163259e-02, -4.82188202e-02, -3.84588614e-02,\n",
              "         -1.34081185e-01,  6.55926391e-02,  1.84553504e-01,\n",
              "         -9.61191021e-03,  2.96288468e-02],\n",
              "        [ 1.72734246e-01,  6.91968128e-02,  5.12825185e-03,\n",
              "         -5.79942130e-02, -8.46157968e-03, -6.67239949e-02,\n",
              "          4.60990593e-02, -1.97110564e-01,  1.62508726e-01,\n",
              "         -2.10495308e-01,  2.82744288e-01, -7.11519533e-05,\n",
              "          1.75988957e-01,  1.11021429e-01,  1.26073612e-02,\n",
              "         -2.70520687e-01, -2.31419638e-01,  1.00368805e-01,\n",
              "         -1.74570039e-01, -4.33139019e-02],\n",
              "        [ 5.83110824e-02, -2.25317683e-02,  1.79155707e-01,\n",
              "         -7.36472607e-02,  3.48491162e-01,  1.39117524e-01,\n",
              "          4.78838086e-02,  9.70254764e-02, -7.36496747e-02,\n",
              "         -2.00917631e-01, -2.27602988e-01, -8.12415853e-02,\n",
              "         -3.01966816e-02,  4.20638323e-02,  2.18444750e-01,\n",
              "         -9.26700048e-03, -1.95222020e-01,  6.14215210e-02,\n",
              "         -2.87983268e-01,  2.65620053e-01],\n",
              "        [-2.03903362e-01, -1.04475528e-01, -3.27405967e-02,\n",
              "          3.31428379e-01, -1.02313757e-02, -4.32368740e-02,\n",
              "         -3.48483413e-01, -2.59330831e-02,  5.90545237e-02,\n",
              "         -1.03189513e-01,  2.25028813e-01,  1.81366965e-01,\n",
              "          6.15236023e-03,  1.85416549e-01, -9.75762159e-02,\n",
              "          5.45090586e-02,  1.37881935e-01,  1.81337297e-01,\n",
              "         -5.09667918e-02,  7.60154575e-02],\n",
              "        [ 7.68157244e-02,  3.78787249e-01,  2.30465591e-01,\n",
              "         -1.85069919e-01,  1.37066618e-01,  1.59993265e-02,\n",
              "         -1.95278868e-01, -9.96421874e-02,  6.43664002e-02,\n",
              "         -2.33083978e-01,  2.47143626e-01, -1.56699225e-01,\n",
              "         -2.14985684e-01, -5.11202253e-02,  1.50816724e-01,\n",
              "          4.60247844e-02, -8.79385322e-02, -3.21508981e-02,\n",
              "          3.55865747e-01,  9.06794798e-03],\n",
              "        [-3.33582312e-01, -2.10533008e-01, -2.27289170e-01,\n",
              "          1.34438998e-03, -1.17485248e-01, -1.59318313e-01,\n",
              "          1.38038337e-01,  1.85152858e-01,  2.74292212e-02,\n",
              "          1.06819376e-01, -8.81910101e-02,  1.02663532e-01,\n",
              "         -7.78039321e-02, -2.46540636e-01, -2.14521036e-01,\n",
              "         -2.85614729e-01, -9.62714031e-02,  1.25753641e-01,\n",
              "         -2.04359248e-01,  4.88182828e-02],\n",
              "        [-9.28567071e-03, -5.19199371e-02,  4.01396770e-03,\n",
              "          1.20515265e-01,  8.83486867e-02, -1.69722497e-01,\n",
              "          6.23849183e-02,  1.71211272e-01,  2.51444161e-01,\n",
              "         -1.65131181e-01,  2.89789677e-01,  1.62979394e-01,\n",
              "          6.13101497e-02, -4.60434221e-02,  1.32294863e-01,\n",
              "         -1.18306920e-01,  2.90093776e-02, -2.23706409e-01,\n",
              "          2.84705162e-01,  1.55196995e-01]], dtype=float32)>,\n",
              " <tf.Variable 'dense_6/bias:0' shape=(20,) dtype=float32, numpy=\n",
              " array([-0.12448069,  0.13886777, -0.04032454, -0.01654112,  0.12422887,\n",
              "        -0.14776817, -0.05027915, -0.02816085,  0.2409903 ,  0.09788545,\n",
              "         0.13780437,  0.17392409,  0.18887563,  0.06316677,  0.18151727,\n",
              "         0.11509777, -0.15191413, -0.05336174,  0.13581821,  0.14814961],\n",
              "       dtype=float32)>,\n",
              " <tf.Variable 'dense_7/kernel:0' shape=(20, 10) dtype=float32, numpy=\n",
              " array([[-0.3490049 ,  0.1230991 , -0.24797657, -0.12990695, -0.04995458,\n",
              "          0.0397731 ,  0.04307906, -0.36849573, -0.24189776, -0.31384686],\n",
              "        [-0.17991845, -0.3264769 , -0.02301908,  0.0210898 , -0.08806442,\n",
              "          0.20075138,  0.08426853, -0.13504094,  0.12125044,  0.19412677],\n",
              "        [ 0.04923565,  0.3086672 , -0.17294647, -0.2169601 , -0.28127983,\n",
              "         -0.09201575,  0.26213098, -0.13945113, -0.15536316, -0.30868453],\n",
              "        [ 0.31322008,  0.04802246, -0.11183263, -0.53048897, -0.06686326,\n",
              "         -0.27759123,  0.35416445, -0.05875605,  0.00454972, -0.33490798],\n",
              "        [ 0.07387912,  0.05479284,  0.24560982,  0.00154639, -0.01060905,\n",
              "          0.13486795, -0.31587023, -0.10913887,  0.26933885, -0.25771698],\n",
              "        [ 0.28589922, -0.3950312 ,  0.26159734, -0.23868802,  0.15347481,\n",
              "         -0.2808004 ,  0.22331667,  0.01560575,  0.09245979, -0.01875597],\n",
              "        [ 0.08305726,  0.04545681, -0.21780409,  0.07194765, -0.3110522 ,\n",
              "         -0.04079213,  0.3247608 , -0.2569253 ,  0.08881798, -0.35989526],\n",
              "        [ 0.31729445, -0.27520868, -0.1785161 , -0.10725662, -0.251801  ,\n",
              "         -0.23639415,  0.1486609 , -0.24650533,  0.01036898,  0.25001612],\n",
              "        [-0.08106609,  0.2502796 , -0.01940483, -0.03960405, -0.16788277,\n",
              "         -0.11381327, -0.30686763, -0.1475684 ,  0.36785567,  0.09336299],\n",
              "        [ 0.00660813, -0.18363182, -0.06593206,  0.3680423 , -0.6014148 ,\n",
              "         -0.18140027, -0.3596949 ,  0.06086199, -0.10185827, -0.1861676 ],\n",
              "        [-0.28913647,  0.1742317 ,  0.13345194, -0.12955324,  0.36209986,\n",
              "          0.08586412,  0.06715339, -0.00525737, -0.04889538,  0.3050451 ],\n",
              "        [ 0.1172661 , -0.02033491, -0.13663615,  0.2047364 ,  0.3994751 ,\n",
              "         -0.03359631,  0.04813208, -0.08049012,  0.3446454 ,  0.03191911],\n",
              "        [-0.23545012, -0.2731286 , -0.03935033, -0.14455585,  0.24885954,\n",
              "         -0.28302488, -0.19676448,  0.05491893, -0.06506469, -0.11075935],\n",
              "        [-0.47112873,  0.36344644, -0.06429802,  0.256055  , -0.15783542,\n",
              "          0.35185176, -0.25623643,  0.08220856, -0.28896898, -0.15725003],\n",
              "        [-0.19407217,  0.26430044,  0.08734463, -0.05431944, -0.20030543,\n",
              "         -0.33471048, -0.2932019 ,  0.38450927,  0.03607893,  0.28402427],\n",
              "        [ 0.02235602, -0.15321048,  0.4415943 ,  0.13566826, -0.06279788,\n",
              "         -0.21358234,  0.2303358 , -0.00273428, -0.00123475, -0.06891418],\n",
              "        [-0.04504981,  0.08016992, -0.21544637, -0.07109516, -0.27663368,\n",
              "         -0.05623908, -0.07878502, -0.03568855, -0.20433305, -0.20240979],\n",
              "        [ 0.26402476, -0.2495049 , -0.09231273, -0.3431231 , -0.1758322 ,\n",
              "          0.18486464, -0.02663147, -0.08676311, -0.13622037, -0.08770061],\n",
              "        [-0.28090954, -0.5226385 , -0.35790753, -0.00476059, -0.00515011,\n",
              "          0.1994934 ,  0.15635185, -0.17104715,  0.02207849,  0.0537934 ],\n",
              "        [ 0.36786118,  0.17855534,  0.04426544,  0.1972003 ,  0.33461973,\n",
              "         -0.0492008 , -0.18927528, -0.13006566, -0.1930151 ,  0.37066066]],\n",
              "       dtype=float32)>,\n",
              " <tf.Variable 'dense_7/bias:0' shape=(10,) dtype=float32, numpy=\n",
              " array([-0.13924459, -0.1398354 ,  0.10081477,  0.01966205, -0.00145957,\n",
              "        -0.08151015, -0.19497788,  0.03134393,  0.12200509,  0.19175798],\n",
              "       dtype=float32)>]"
            ]
          },
          "metadata": {},
          "execution_count": 45
        }
      ]
    },
    {
      "cell_type": "code",
      "source": [
        "x_train[0].shape"
      ],
      "metadata": {
        "colab": {
          "base_uri": "https://localhost:8080/"
        },
        "id": "QrB5wcy0tC4w",
        "outputId": "79d843d4-f387-4c20-9183-b6031005b79f"
      },
      "execution_count": null,
      "outputs": [
        {
          "output_type": "execute_result",
          "data": {
            "text/plain": [
              "(28, 28, 1)"
            ]
          },
          "metadata": {},
          "execution_count": 65
        }
      ]
    },
    {
      "cell_type": "code",
      "source": [
        "from keras.models import load_model, Model\n",
        "from PIL import Image\n",
        "import numpy as np\n",
        "import matplotlib.pyplot as plt\n",
        "\n",
        "# Load the trained Keras model\n",
        "model = load_model('/content/model2.h5')\n",
        "\n",
        "# Load and preprocess the input image\n",
        "\n",
        "\n",
        "# Access a specific layer in the model\n",
        "target_layer = model.get_layer('conv2d_10')\n",
        "\n",
        "# Get the output of the target layer\n",
        "layer_output = Model(inputs=model.input, outputs=target_layer.output)\n",
        "layer_features = layer_output.predict(t)\n",
        "\n",
        "# Visualize the layer output\n",
        "num_filters = layer_features.shape[-1]\n",
        "plt.figure(figsize=(16, 8))\n",
        "for i in range(num_filters):\n",
        "    plt.subplot(5, 10 , i + 1)\n",
        "    plt.imshow(layer_features[0, :, :, i], cmap='gray')\n",
        "    plt.axis('off')\n",
        "plt.suptitle('Convolutional Layer Feature Maps')\n",
        "plt.show()"
      ],
      "metadata": {
        "colab": {
          "base_uri": "https://localhost:8080/",
          "height": 750
        },
        "id": "tOsZwKeqo9jA",
        "outputId": "4ed5ef20-ccfa-44e8-f3f5-ed898c73beb8"
      },
      "execution_count": null,
      "outputs": [
        {
          "output_type": "stream",
          "name": "stdout",
          "text": [
            "1/1 [==============================] - 0s 76ms/step\n"
          ]
        },
        {
          "output_type": "display_data",
          "data": {
            "text/plain": [
              "<Figure size 1600x800 with 50 Axes>"
            ],
            "image/png": "[encoded data removed]"
          },
          "metadata": {}
        }
      ]
    },
    {
      "cell_type": "code",
      "source": [
        "layer_features.shape"
      ],
      "metadata": {
        "colab": {
          "base_uri": "https://localhost:8080/"
        },
        "id": "am1CPyvftGO9",
        "outputId": "873d9944-a38a-48bc-a144-bdfc8893f7cd"
      },
      "execution_count": null,
      "outputs": [
        {
          "output_type": "execute_result",
          "data": {
            "text/plain": [
              "(1, 10, 10, 50)"
            ]
          },
          "metadata": {},
          "execution_count": 68
        }
      ]
    },
    {
      "cell_type": "code",
      "source": [
        "num_filters"
      ],
      "metadata": {
        "colab": {
          "base_uri": "https://localhost:8080/"
        },
        "id": "DoYyDdwotWSh",
        "outputId": "2e222a7b-f0e8-47da-d2a4-b5768a32ca18"
      },
      "execution_count": null,
      "outputs": [
        {
          "output_type": "execute_result",
          "data": {
            "text/plain": [
              "50"
            ]
          },
          "metadata": {},
          "execution_count": 69
        }
      ]
    },
    {
      "cell_type": "code",
      "source": [
        "plt.imshow(layer_features[0])"
      ],
      "metadata": {
        "id": "aiRwceNqtpRQ"
      },
      "execution_count": null,
      "outputs": []
    },
    {
      "cell_type": "code",
      "source": [
        "from keras.models import load_model, Model\n",
        "from PIL import Image\n",
        "import numpy as np\n",
        "import matplotlib.pyplot as plt\n",
        "\n",
        "# Load the trained Keras model\n",
        "model = load_model('/content/model2.h5')\n",
        "\n",
        "# Load and preprocess the input image\n",
        "\n",
        "\n",
        "# Access a specific layer in the model\n",
        "target_layer = model.get_layer('max_pooling2d_5')\n",
        "\n",
        "# Get the output of the target layer\n",
        "layer_output = Model(inputs=model.input, outputs=target_layer.output)\n",
        "layer_features = layer_output.predict(t)\n",
        "\n",
        "# Visualize the layer output\n",
        "num_filters = layer_features.shape[-1]\n",
        "plt.figure(figsize=(16, 8))\n",
        "for i in range(num_filters):\n",
        "    plt.subplot(5, 10 , i + 1)\n",
        "    plt.imshow(layer_features[0, :, :, i], cmap='gray')\n",
        "    plt.axis('off')\n",
        "plt.suptitle('Convolutional Layer Feature Maps')\n",
        "plt.show()"
      ],
      "metadata": {
        "colab": {
          "base_uri": "https://localhost:8080/",
          "height": 788
        },
        "id": "1wcy1Md_uMKh",
        "outputId": "8ca51fd9-0286-4c85-b553-3439b891b41e"
      },
      "execution_count": null,
      "outputs": [
        {
          "output_type": "stream",
          "name": "stderr",
          "text": [
            "WARNING:tensorflow:5 out of the last 7 calls to <function Model.make_predict_function.<locals>.predict_function at 0x77fd87a469e0> triggered tf.function retracing. Tracing is expensive and the excessive number of tracings could be due to (1) creating @tf.function repeatedly in a loop, (2) passing tensors with different shapes, (3) passing Python objects instead of tensors. For (1), please define your @tf.function outside of the loop. For (2), @tf.function has reduce_retracing=True option that can avoid unnecessary retracing. For (3), please refer to https://www.tensorflow.org/guide/function#controlling_retracing and https://www.tensorflow.org/api_docs/python/tf/function for  more details.\n"
          ]
        },
        {
          "output_type": "stream",
          "name": "stdout",
          "text": [
            "1/1 [==============================] - 0s 197ms/step\n"
          ]
        },
        {
          "output_type": "display_data",
          "data": {
            "text/plain": [
              "<Figure size 1600x800 with 50 Axes>"
            ],
            "image/png": "[encoded data removed]"
          },
          "metadata": {}
        }
      ]
    },
    {
      "cell_type": "code",
      "source": [
        "layer_features.shape"
      ],
      "metadata": {
        "colab": {
          "base_uri": "https://localhost:8080/"
        },
        "id": "iNCPCE5OuaXk",
        "outputId": "0fc6bd40-ad3b-4eaf-a9ff-f24673073efa"
      },
      "execution_count": null,
      "outputs": [
        {
          "output_type": "execute_result",
          "data": {
            "text/plain": [
              "(1, 5, 5, 50)"
            ]
          },
          "metadata": {},
          "execution_count": 72
        }
      ]
    },
    {
      "cell_type": "code",
      "source": [
        "from keras.models import load_model, Model\n",
        "from PIL import Image\n",
        "import numpy as np\n",
        "import matplotlib.pyplot as plt\n",
        "\n",
        "# Load the trained Keras model\n",
        "model = load_model('/content/model2.h5')\n",
        "\n",
        "# Load and preprocess the input image\n",
        "\n",
        "\n",
        "# Access a specific layer in the model\n",
        "target_layer = model.get_layer('flatten_2')\n",
        "\n",
        "# Get the output of the target layer\n",
        "layer_output = Model(inputs=model.input, outputs=target_layer.output)\n",
        "layer_features = layer_output.predict(t)\n",
        "\n",
        "# Visualize the layer output\n"
      ],
      "metadata": {
        "id": "ySYJrAIhufIj",
        "colab": {
          "base_uri": "https://localhost:8080/"
        },
        "outputId": "a86fea2b-be93-45ce-b0dd-5177333126cd"
      },
      "execution_count": 77,
      "outputs": [
        {
          "output_type": "stream",
          "name": "stdout",
          "text": [
            "1/1 [==============================] - 0s 88ms/step\n"
          ]
        }
      ]
    },
    {
      "cell_type": "code",
      "source": [
        "target_layer"
      ],
      "metadata": {
        "colab": {
          "base_uri": "https://localhost:8080/"
        },
        "id": "ApD-yrHqvvK8",
        "outputId": "23ad64f4-7e64-4bf8-8537-935e6c8663b3"
      },
      "execution_count": 80,
      "outputs": [
        {
          "output_type": "execute_result",
          "data": {
            "text/plain": [
              "<keras.src.layers.reshaping.flatten.Flatten at 0x77fd84ddaec0>"
            ]
          },
          "metadata": {},
          "execution_count": 80
        }
      ]
    },
    {
      "cell_type": "code",
      "source": [
        "for i in target_layer :\n",
        "  print(i)\n",
        "  break"
      ],
      "metadata": {
        "colab": {
          "base_uri": "https://localhost:8080/",
          "height": 183
        },
        "id": "MRqLWoF-vgG7",
        "outputId": "5e31033e-b17a-4820-ff4d-d1725d48c9e3"
      },
      "execution_count": 79,
      "outputs": [
        {
          "output_type": "error",
          "ename": "TypeError",
          "evalue": "'Flatten' object is not iterable",
          "traceback": [
            "\u001b[0;31m---------------------------------------------------------------------------\u001b[0m",
            "\u001b[0;31mTypeError\u001b[0m                                 Traceback (most recent call last)",
            "\u001b[0;32m<ipython-input-79-b0ece4cf9cd6>\u001b[0m in \u001b[0;36m<cell line: 1>\u001b[0;34m()\u001b[0m\n\u001b[0;32m----> 1\u001b[0;31m \u001b[0;32mfor\u001b[0m \u001b[0mi\u001b[0m \u001b[0;32min\u001b[0m \u001b[0mtarget_layer\u001b[0m \u001b[0;34m:\u001b[0m\u001b[0;34m\u001b[0m\u001b[0;34m\u001b[0m\u001b[0m\n\u001b[0m\u001b[1;32m      2\u001b[0m   \u001b[0mprint\u001b[0m\u001b[0;34m(\u001b[0m\u001b[0mi\u001b[0m\u001b[0;34m)\u001b[0m\u001b[0;34m\u001b[0m\u001b[0;34m\u001b[0m\u001b[0m\n\u001b[1;32m      3\u001b[0m   \u001b[0;32mbreak\u001b[0m\u001b[0;34m\u001b[0m\u001b[0;34m\u001b[0m\u001b[0m\n",
            "\u001b[0;31mTypeError\u001b[0m: 'Flatten' object is not iterable"
          ]
        }
      ]
    },
    {
      "cell_type": "code",
      "source": [
        "target_layer.shape"
      ],
      "metadata": {
        "colab": {
          "base_uri": "https://localhost:8080/",
          "height": 147
        },
        "id": "EIs6dhDdveHO",
        "outputId": "1230193c-7990-4ae3-e117-1b696b60970c"
      },
      "execution_count": 75,
      "outputs": [
        {
          "output_type": "error",
          "ename": "AttributeError",
          "evalue": "'Flatten' object has no attribute 'shape'",
          "traceback": [
            "\u001b[0;31m---------------------------------------------------------------------------\u001b[0m",
            "\u001b[0;31mAttributeError\u001b[0m                            Traceback (most recent call last)",
            "\u001b[0;32m<ipython-input-75-aae86c2a4e5f>\u001b[0m in \u001b[0;36m<cell line: 1>\u001b[0;34m()\u001b[0m\n\u001b[0;32m----> 1\u001b[0;31m \u001b[0mtarget_layer\u001b[0m\u001b[0;34m.\u001b[0m\u001b[0mshape\u001b[0m\u001b[0;34m\u001b[0m\u001b[0;34m\u001b[0m\u001b[0m\n\u001b[0m",
            "\u001b[0;31mAttributeError\u001b[0m: 'Flatten' object has no attribute 'shape'"
          ]
        }
      ]
    },
    {
      "cell_type": "code",
      "source": [
        "plt.plot(target_layer)\n",
        "plt.imshow()"
      ],
      "metadata": {
        "colab": {
          "base_uri": "https://localhost:8080/",
          "height": 735
        },
        "id": "ipXQdTVMvUWy",
        "outputId": "42a00bd5-c7f1-40f6-d568-7b3033059e45"
      },
      "execution_count": 74,
      "outputs": [
        {
          "output_type": "error",
          "ename": "TypeError",
          "evalue": "float() argument must be a string or a real number, not 'Flatten'",
          "traceback": [
            "\u001b[0;31m---------------------------------------------------------------------------\u001b[0m",
            "\u001b[0;31mTypeError\u001b[0m                                 Traceback (most recent call last)",
            "\u001b[0;32m<ipython-input-74-963c16c04a7f>\u001b[0m in \u001b[0;36m<cell line: 1>\u001b[0;34m()\u001b[0m\n\u001b[0;32m----> 1\u001b[0;31m \u001b[0mplt\u001b[0m\u001b[0;34m.\u001b[0m\u001b[0mplot\u001b[0m\u001b[0;34m(\u001b[0m\u001b[0mtarget_layer\u001b[0m\u001b[0;34m)\u001b[0m\u001b[0;34m\u001b[0m\u001b[0;34m\u001b[0m\u001b[0m\n\u001b[0m\u001b[1;32m      2\u001b[0m \u001b[0mplt\u001b[0m\u001b[0;34m.\u001b[0m\u001b[0mimshow\u001b[0m\u001b[0;34m(\u001b[0m\u001b[0;34m)\u001b[0m\u001b[0;34m\u001b[0m\u001b[0;34m\u001b[0m\u001b[0m\n",
            "\u001b[0;32m/usr/local/lib/python3.10/dist-packages/matplotlib/pyplot.py\u001b[0m in \u001b[0;36mplot\u001b[0;34m(scalex, scaley, data, *args, **kwargs)\u001b[0m\n\u001b[1;32m   2810\u001b[0m \u001b[0;34m@\u001b[0m\u001b[0m_copy_docstring_and_deprecators\u001b[0m\u001b[0;34m(\u001b[0m\u001b[0mAxes\u001b[0m\u001b[0;34m.\u001b[0m\u001b[0mplot\u001b[0m\u001b[0;34m)\u001b[0m\u001b[0;34m\u001b[0m\u001b[0;34m\u001b[0m\u001b[0m\n\u001b[1;32m   2811\u001b[0m \u001b[0;32mdef\u001b[0m \u001b[0mplot\u001b[0m\u001b[0;34m(\u001b[0m\u001b[0;34m*\u001b[0m\u001b[0margs\u001b[0m\u001b[0;34m,\u001b[0m \u001b[0mscalex\u001b[0m\u001b[0;34m=\u001b[0m\u001b[0;32mTrue\u001b[0m\u001b[0;34m,\u001b[0m \u001b[0mscaley\u001b[0m\u001b[0;34m=\u001b[0m\u001b[0;32mTrue\u001b[0m\u001b[0;34m,\u001b[0m \u001b[0mdata\u001b[0m\u001b[0;34m=\u001b[0m\u001b[0;32mNone\u001b[0m\u001b[0;34m,\u001b[0m \u001b[0;34m**\u001b[0m\u001b[0mkwargs\u001b[0m\u001b[0;34m)\u001b[0m\u001b[0;34m:\u001b[0m\u001b[0;34m\u001b[0m\u001b[0;34m\u001b[0m\u001b[0m\n\u001b[0;32m-> 2812\u001b[0;31m     return gca().plot(\n\u001b[0m\u001b[1;32m   2813\u001b[0m         \u001b[0;34m*\u001b[0m\u001b[0margs\u001b[0m\u001b[0;34m,\u001b[0m \u001b[0mscalex\u001b[0m\u001b[0;34m=\u001b[0m\u001b[0mscalex\u001b[0m\u001b[0;34m,\u001b[0m \u001b[0mscaley\u001b[0m\u001b[0;34m=\u001b[0m\u001b[0mscaley\u001b[0m\u001b[0;34m,\u001b[0m\u001b[0;34m\u001b[0m\u001b[0;34m\u001b[0m\u001b[0m\n\u001b[1;32m   2814\u001b[0m         **({\"data\": data} if data is not None else {}), **kwargs)\n",
            "\u001b[0;32m/usr/local/lib/python3.10/dist-packages/matplotlib/axes/_axes.py\u001b[0m in \u001b[0;36mplot\u001b[0;34m(self, scalex, scaley, data, *args, **kwargs)\u001b[0m\n\u001b[1;32m   1688\u001b[0m         \u001b[0mlines\u001b[0m \u001b[0;34m=\u001b[0m \u001b[0;34m[\u001b[0m\u001b[0;34m*\u001b[0m\u001b[0mself\u001b[0m\u001b[0;34m.\u001b[0m\u001b[0m_get_lines\u001b[0m\u001b[0;34m(\u001b[0m\u001b[0;34m*\u001b[0m\u001b[0margs\u001b[0m\u001b[0;34m,\u001b[0m \u001b[0mdata\u001b[0m\u001b[0;34m=\u001b[0m\u001b[0mdata\u001b[0m\u001b[0;34m,\u001b[0m \u001b[0;34m**\u001b[0m\u001b[0mkwargs\u001b[0m\u001b[0;34m)\u001b[0m\u001b[0;34m]\u001b[0m\u001b[0;34m\u001b[0m\u001b[0;34m\u001b[0m\u001b[0m\n\u001b[1;32m   1689\u001b[0m         \u001b[0;32mfor\u001b[0m \u001b[0mline\u001b[0m \u001b[0;32min\u001b[0m \u001b[0mlines\u001b[0m\u001b[0;34m:\u001b[0m\u001b[0;34m\u001b[0m\u001b[0;34m\u001b[0m\u001b[0m\n\u001b[0;32m-> 1690\u001b[0;31m             \u001b[0mself\u001b[0m\u001b[0;34m.\u001b[0m\u001b[0madd_line\u001b[0m\u001b[0;34m(\u001b[0m\u001b[0mline\u001b[0m\u001b[0;34m)\u001b[0m\u001b[0;34m\u001b[0m\u001b[0;34m\u001b[0m\u001b[0m\n\u001b[0m\u001b[1;32m   1691\u001b[0m         \u001b[0;32mif\u001b[0m \u001b[0mscalex\u001b[0m\u001b[0;34m:\u001b[0m\u001b[0;34m\u001b[0m\u001b[0;34m\u001b[0m\u001b[0m\n\u001b[1;32m   1692\u001b[0m             \u001b[0mself\u001b[0m\u001b[0;34m.\u001b[0m\u001b[0m_request_autoscale_view\u001b[0m\u001b[0;34m(\u001b[0m\u001b[0;34m\"x\"\u001b[0m\u001b[0;34m)\u001b[0m\u001b[0;34m\u001b[0m\u001b[0;34m\u001b[0m\u001b[0m\n",
            "\u001b[0;32m/usr/local/lib/python3.10/dist-packages/matplotlib/axes/_base.py\u001b[0m in \u001b[0;36madd_line\u001b[0;34m(self, line)\u001b[0m\n\u001b[1;32m   2302\u001b[0m             \u001b[0mline\u001b[0m\u001b[0;34m.\u001b[0m\u001b[0mset_clip_path\u001b[0m\u001b[0;34m(\u001b[0m\u001b[0mself\u001b[0m\u001b[0;34m.\u001b[0m\u001b[0mpatch\u001b[0m\u001b[0;34m)\u001b[0m\u001b[0;34m\u001b[0m\u001b[0;34m\u001b[0m\u001b[0m\n\u001b[1;32m   2303\u001b[0m \u001b[0;34m\u001b[0m\u001b[0m\n\u001b[0;32m-> 2304\u001b[0;31m         \u001b[0mself\u001b[0m\u001b[0;34m.\u001b[0m\u001b[0m_update_line_limits\u001b[0m\u001b[0;34m(\u001b[0m\u001b[0mline\u001b[0m\u001b[0;34m)\u001b[0m\u001b[0;34m\u001b[0m\u001b[0;34m\u001b[0m\u001b[0m\n\u001b[0m\u001b[1;32m   2305\u001b[0m         \u001b[0;32mif\u001b[0m \u001b[0;32mnot\u001b[0m \u001b[0mline\u001b[0m\u001b[0;34m.\u001b[0m\u001b[0mget_label\u001b[0m\u001b[0;34m(\u001b[0m\u001b[0;34m)\u001b[0m\u001b[0;34m:\u001b[0m\u001b[0;34m\u001b[0m\u001b[0;34m\u001b[0m\u001b[0m\n\u001b[1;32m   2306\u001b[0m             \u001b[0mline\u001b[0m\u001b[0;34m.\u001b[0m\u001b[0mset_label\u001b[0m\u001b[0;34m(\u001b[0m\u001b[0;34mf'_child{len(self._children)}'\u001b[0m\u001b[0;34m)\u001b[0m\u001b[0;34m\u001b[0m\u001b[0;34m\u001b[0m\u001b[0m\n",
            "\u001b[0;32m/usr/local/lib/python3.10/dist-packages/matplotlib/axes/_base.py\u001b[0m in \u001b[0;36m_update_line_limits\u001b[0;34m(self, line)\u001b[0m\n\u001b[1;32m   2325\u001b[0m         \u001b[0mFigures\u001b[0m \u001b[0mout\u001b[0m \u001b[0mthe\u001b[0m \u001b[0mdata\u001b[0m \u001b[0mlimit\u001b[0m \u001b[0mof\u001b[0m \u001b[0mthe\u001b[0m \u001b[0mgiven\u001b[0m \u001b[0mline\u001b[0m\u001b[0;34m,\u001b[0m \u001b[0mupdating\u001b[0m \u001b[0mself\u001b[0m\u001b[0;34m.\u001b[0m\u001b[0mdataLim\u001b[0m\u001b[0;34m.\u001b[0m\u001b[0;34m\u001b[0m\u001b[0;34m\u001b[0m\u001b[0m\n\u001b[1;32m   2326\u001b[0m         \"\"\"\n\u001b[0;32m-> 2327\u001b[0;31m         \u001b[0mpath\u001b[0m \u001b[0;34m=\u001b[0m \u001b[0mline\u001b[0m\u001b[0;34m.\u001b[0m\u001b[0mget_path\u001b[0m\u001b[0;34m(\u001b[0m\u001b[0;34m)\u001b[0m\u001b[0;34m\u001b[0m\u001b[0;34m\u001b[0m\u001b[0m\n\u001b[0m\u001b[1;32m   2328\u001b[0m         \u001b[0;32mif\u001b[0m \u001b[0mpath\u001b[0m\u001b[0;34m.\u001b[0m\u001b[0mvertices\u001b[0m\u001b[0;34m.\u001b[0m\u001b[0msize\u001b[0m \u001b[0;34m==\u001b[0m \u001b[0;36m0\u001b[0m\u001b[0;34m:\u001b[0m\u001b[0;34m\u001b[0m\u001b[0;34m\u001b[0m\u001b[0m\n\u001b[1;32m   2329\u001b[0m             \u001b[0;32mreturn\u001b[0m\u001b[0;34m\u001b[0m\u001b[0;34m\u001b[0m\u001b[0m\n",
            "\u001b[0;32m/usr/local/lib/python3.10/dist-packages/matplotlib/lines.py\u001b[0m in \u001b[0;36mget_path\u001b[0;34m(self)\u001b[0m\n\u001b[1;32m   1027\u001b[0m         \u001b[0;34m\"\"\"Return the `~matplotlib.path.Path` associated with this line.\"\"\"\u001b[0m\u001b[0;34m\u001b[0m\u001b[0;34m\u001b[0m\u001b[0m\n\u001b[1;32m   1028\u001b[0m         \u001b[0;32mif\u001b[0m \u001b[0mself\u001b[0m\u001b[0;34m.\u001b[0m\u001b[0m_invalidy\u001b[0m \u001b[0;32mor\u001b[0m \u001b[0mself\u001b[0m\u001b[0;34m.\u001b[0m\u001b[0m_invalidx\u001b[0m\u001b[0;34m:\u001b[0m\u001b[0;34m\u001b[0m\u001b[0;34m\u001b[0m\u001b[0m\n\u001b[0;32m-> 1029\u001b[0;31m             \u001b[0mself\u001b[0m\u001b[0;34m.\u001b[0m\u001b[0mrecache\u001b[0m\u001b[0;34m(\u001b[0m\u001b[0;34m)\u001b[0m\u001b[0;34m\u001b[0m\u001b[0;34m\u001b[0m\u001b[0m\n\u001b[0m\u001b[1;32m   1030\u001b[0m         \u001b[0;32mreturn\u001b[0m \u001b[0mself\u001b[0m\u001b[0;34m.\u001b[0m\u001b[0m_path\u001b[0m\u001b[0;34m\u001b[0m\u001b[0;34m\u001b[0m\u001b[0m\n\u001b[1;32m   1031\u001b[0m \u001b[0;34m\u001b[0m\u001b[0m\n",
            "\u001b[0;32m/usr/local/lib/python3.10/dist-packages/matplotlib/lines.py\u001b[0m in \u001b[0;36mrecache\u001b[0;34m(self, always)\u001b[0m\n\u001b[1;32m    660\u001b[0m         \u001b[0;32mif\u001b[0m \u001b[0malways\u001b[0m \u001b[0;32mor\u001b[0m \u001b[0mself\u001b[0m\u001b[0;34m.\u001b[0m\u001b[0m_invalidy\u001b[0m\u001b[0;34m:\u001b[0m\u001b[0;34m\u001b[0m\u001b[0;34m\u001b[0m\u001b[0m\n\u001b[1;32m    661\u001b[0m             \u001b[0myconv\u001b[0m \u001b[0;34m=\u001b[0m \u001b[0mself\u001b[0m\u001b[0;34m.\u001b[0m\u001b[0mconvert_yunits\u001b[0m\u001b[0;34m(\u001b[0m\u001b[0mself\u001b[0m\u001b[0;34m.\u001b[0m\u001b[0m_yorig\u001b[0m\u001b[0;34m)\u001b[0m\u001b[0;34m\u001b[0m\u001b[0;34m\u001b[0m\u001b[0m\n\u001b[0;32m--> 662\u001b[0;31m             \u001b[0my\u001b[0m \u001b[0;34m=\u001b[0m \u001b[0m_to_unmasked_float_array\u001b[0m\u001b[0;34m(\u001b[0m\u001b[0myconv\u001b[0m\u001b[0;34m)\u001b[0m\u001b[0;34m.\u001b[0m\u001b[0mravel\u001b[0m\u001b[0;34m(\u001b[0m\u001b[0;34m)\u001b[0m\u001b[0;34m\u001b[0m\u001b[0;34m\u001b[0m\u001b[0m\n\u001b[0m\u001b[1;32m    663\u001b[0m         \u001b[0;32melse\u001b[0m\u001b[0;34m:\u001b[0m\u001b[0;34m\u001b[0m\u001b[0;34m\u001b[0m\u001b[0m\n\u001b[1;32m    664\u001b[0m             \u001b[0my\u001b[0m \u001b[0;34m=\u001b[0m \u001b[0mself\u001b[0m\u001b[0;34m.\u001b[0m\u001b[0m_y\u001b[0m\u001b[0;34m\u001b[0m\u001b[0;34m\u001b[0m\u001b[0m\n",
            "\u001b[0;32m/usr/local/lib/python3.10/dist-packages/matplotlib/cbook/__init__.py\u001b[0m in \u001b[0;36m_to_unmasked_float_array\u001b[0;34m(x)\u001b[0m\n\u001b[1;32m   1333\u001b[0m         \u001b[0;32mreturn\u001b[0m \u001b[0mnp\u001b[0m\u001b[0;34m.\u001b[0m\u001b[0mma\u001b[0m\u001b[0;34m.\u001b[0m\u001b[0masarray\u001b[0m\u001b[0;34m(\u001b[0m\u001b[0mx\u001b[0m\u001b[0;34m,\u001b[0m \u001b[0mfloat\u001b[0m\u001b[0;34m)\u001b[0m\u001b[0;34m.\u001b[0m\u001b[0mfilled\u001b[0m\u001b[0;34m(\u001b[0m\u001b[0mnp\u001b[0m\u001b[0;34m.\u001b[0m\u001b[0mnan\u001b[0m\u001b[0;34m)\u001b[0m\u001b[0;34m\u001b[0m\u001b[0;34m\u001b[0m\u001b[0m\n\u001b[1;32m   1334\u001b[0m     \u001b[0;32melse\u001b[0m\u001b[0;34m:\u001b[0m\u001b[0;34m\u001b[0m\u001b[0;34m\u001b[0m\u001b[0m\n\u001b[0;32m-> 1335\u001b[0;31m         \u001b[0;32mreturn\u001b[0m \u001b[0mnp\u001b[0m\u001b[0;34m.\u001b[0m\u001b[0masarray\u001b[0m\u001b[0;34m(\u001b[0m\u001b[0mx\u001b[0m\u001b[0;34m,\u001b[0m \u001b[0mfloat\u001b[0m\u001b[0;34m)\u001b[0m\u001b[0;34m\u001b[0m\u001b[0;34m\u001b[0m\u001b[0m\n\u001b[0m\u001b[1;32m   1336\u001b[0m \u001b[0;34m\u001b[0m\u001b[0m\n\u001b[1;32m   1337\u001b[0m \u001b[0;34m\u001b[0m\u001b[0m\n",
            "\u001b[0;31mTypeError\u001b[0m: float() argument must be a string or a real number, not 'Flatten'"
          ]
        },
        {
          "output_type": "display_data",
          "data": {
            "text/plain": [
              "<Figure size 640x480 with 1 Axes>"
            ],
            "image/png": "[encoded data removed]"
          },
          "metadata": {}
        }
      ]
    },
    {
      "cell_type": "code",
      "source": [],
      "metadata": {
        "id": "KCmnhZnTvZzo"
      },
      "execution_count": null,
      "outputs": []
    }
  ]
}